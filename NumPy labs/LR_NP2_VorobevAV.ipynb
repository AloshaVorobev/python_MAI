{
 "cells": [
  {
   "cell_type": "markdown",
   "metadata": {},
   "source": [
    "---\n",
    "                                            Московский Авиационный Институт  \n",
    "                                      (Национальный Исследовательский Университет)  \n",
    "        \n",
    "                \n",
    "                \n",
    "    Кафедра 806 «Вычислительная математика и программирование»  \n",
    "    Институт: «Информационные технологии и прикладная математика»  \n",
    "    Дисциплина: «Разработка ПО для высокопроизводительных систем»        \n",
    "                \n",
    "\n",
    "\n",
    "                                            -------------------------------\n",
    "                                            Лабораторная работа по NumPy №2  \n",
    "                                            -------------------------------    \n",
    "                                            \n",
    "                                            \n",
    "                                            \n",
    "                                                                                Группа: М8О-103М-20  \n",
    "                                                                                Студент: Воробьев Алексей Вячеславович  \n",
    "                                                                                Преподаватель: Поповкин Александр Викторович  \n",
    "                                                                                \n",
    "                                                                                \n",
    "                                                                                \n",
    "                                                     Москва, 2020  \n",
    "                                                         \n",
    "---"
   ]
  },
  {
   "cell_type": "markdown",
   "metadata": {
    "id": "WhiVw6a-dbM5"
   },
   "source": [
    "\n",
    "0. Подключаем библиотеку NumPy:"
   ]
  },
  {
   "cell_type": "code",
   "execution_count": 2,
   "metadata": {
    "id": "VcNBZlunOv6x"
   },
   "outputs": [],
   "source": [
    "import numpy as np"
   ]
  },
  {
   "cell_type": "markdown",
   "metadata": {
    "id": "XPUSOgsGO82Q"
   },
   "source": [
    "-----------------\n",
    "1. Перемножить матрицы 5x3 и 3x2:"
   ]
  },
  {
   "cell_type": "code",
   "execution_count": 10,
   "metadata": {
    "colab": {
     "base_uri": "https://localhost:8080/"
    },
    "id": "aZKlVV3xO9U9",
    "outputId": "44b3ff74-72d3-4ebd-c7f1-4e91e3da36f2"
   },
   "outputs": [
    {
     "name": "stdout",
     "output_type": "stream",
     "text": [
      "Матрица А:\n",
      "[[1. 1. 1.]\n",
      " [1. 1. 1.]\n",
      " [1. 1. 1.]\n",
      " [1. 1. 1.]\n",
      " [1. 1. 1.]]\n",
      "\n",
      "Матрица Б:\n",
      "[[1. 1.]\n",
      " [1. 1.]\n",
      " [1. 1.]]\n",
      "\n",
      "Произведение А на Б:\n",
      "[[3. 3.]\n",
      " [3. 3.]\n",
      " [3. 3.]\n",
      " [3. 3.]\n",
      " [3. 3.]]\n",
      "\n"
     ]
    }
   ],
   "source": [
    "np.set_printoptions(edgeitems=3, infstr='inf', linewidth=75, nanstr='nan', \n",
    "                    precision=8, suppress=False, threshold=1000, formatter=None)\n",
    "\n",
    "a = np.ones((5, 3))\n",
    "b = np.ones((3, 2))\n",
    "c = np.dot(a, b)\n",
    "\n",
    "print(f'Матрица А:\\n{a}\\n')\n",
    "print(f'Матрица Б:\\n{b}\\n')\n",
    "print(f'Произведение А на Б:\\n{c}\\n')"
   ]
  },
  {
   "cell_type": "markdown",
   "metadata": {
    "id": "BVdg9p7fO-IP"
   },
   "source": [
    "-----------------\n",
    "2. Дан массив, поменять знак у элементов, значения которых между 3 и 8:"
   ]
  },
  {
   "cell_type": "code",
   "execution_count": 3,
   "metadata": {
    "colab": {
     "base_uri": "https://localhost:8080/"
    },
    "id": "OXRL6g0sO-7C",
    "outputId": "3aec8e99-35eb-446a-e304-a7d92b59193d"
   },
   "outputs": [
    {
     "name": "stdout",
     "output_type": "stream",
     "text": [
      "Массив (обратите внимание на значения от 3 до 8):\n",
      "[ 0  1  2  3 -4 -5 -6 -7  8  9 10 11 12 13 14 15 16 17 18 19]\n"
     ]
    }
   ],
   "source": [
    "a = np.arange(20)\n",
    "a[(a > 3) & (a < 8)] *= -1\n",
    "print(f'Массив (обратите внимание на значения от 3 до 8):\\n{a}')"
   ]
  },
  {
   "cell_type": "markdown",
   "metadata": {
    "id": "6alCi4RdkjOs"
   },
   "source": [
    "----------\n",
    "3. Создать 5x5 матрицу со значениями в строках от 0 до 4:"
   ]
  },
  {
   "cell_type": "code",
   "execution_count": 4,
   "metadata": {
    "colab": {
     "base_uri": "https://localhost:8080/"
    },
    "id": "bmQtX3iIkmNS",
    "outputId": "d4dcad08-9dad-4f76-931f-bc04074ac40d"
   },
   "outputs": [
    {
     "name": "stdout",
     "output_type": "stream",
     "text": [
      "Матрица 5х5 со значениями в строках от 0 до 4:\n",
      "[[0. 1. 2. 3. 4.]\n",
      " [0. 1. 2. 3. 4.]\n",
      " [0. 1. 2. 3. 4.]\n",
      " [0. 1. 2. 3. 4.]\n",
      " [0. 1. 2. 3. 4.]]\n"
     ]
    }
   ],
   "source": [
    "a = np.zeros((5, 5))\n",
    "a += np.arange(5)\n",
    "print(f'Матрица 5х5 со значениями в строках от 0 до 4:\\n{a}')"
   ]
  },
  {
   "cell_type": "markdown",
   "metadata": {
    "id": "PZVtK70VlTV6"
   },
   "source": [
    "---------------\n",
    "4. Есть генератор, сделать с его помощью массив:"
   ]
  },
  {
   "cell_type": "code",
   "execution_count": 5,
   "metadata": {
    "colab": {
     "base_uri": "https://localhost:8080/"
    },
    "id": "rBTSgASYlV-2",
    "outputId": "0b6ad293-d129-4b82-e5a3-11aa6e815b53"
   },
   "outputs": [
    {
     "name": "stdout",
     "output_type": "stream",
     "text": [
      "Наш массив от генератора:\n",
      "[0. 1. 2. 3. 4. 5. 6. 7. 8. 9.]\n"
     ]
    }
   ],
   "source": [
    "def generate():\n",
    "    for x in range(10):\n",
    "        yield x\n",
    "a = np.fromiter(generate(), float, -1)\n",
    "print(f'Наш массив от генератора:\\n{a}')"
   ]
  },
  {
   "cell_type": "markdown",
   "metadata": {
    "id": "r5ZkC6Zwn1zO"
   },
   "source": [
    "-----------------\n",
    "5. Создать вектор размера 10 со значениями от 0 до 1, не включая ни то, ни другое:"
   ]
  },
  {
   "cell_type": "code",
   "execution_count": 6,
   "metadata": {
    "colab": {
     "base_uri": "https://localhost:8080/"
    },
    "id": "Ws-OiBf-n4rD",
    "outputId": "84ca5e79-0171-48c6-a83f-bcfbb0bb3dde"
   },
   "outputs": [
    {
     "name": "stdout",
     "output_type": "stream",
     "text": [
      "Вектооор, о дааа:\n",
      "[0.    0.111 0.222 0.333 0.444 0.556 0.667 0.778 0.889 1.   ]\n"
     ]
    }
   ],
   "source": [
    "a = np.around(np.linspace(0, 1, 10), 3)\n",
    "print(f'Вектооор, о дааа:\\n{a}')"
   ]
  },
  {
   "cell_type": "markdown",
   "metadata": {
    "id": "hIGIMMvsqAfE"
   },
   "source": [
    "------------\n",
    "6. Отсортировать вектор:"
   ]
  },
  {
   "cell_type": "code",
   "execution_count": 7,
   "metadata": {
    "colab": {
     "base_uri": "https://localhost:8080/"
    },
    "id": "a4DKVLCEp_r7",
    "outputId": "fb930c29-3e02-43ee-adf5-527d95d7ac53"
   },
   "outputs": [
    {
     "name": "stdout",
     "output_type": "stream",
     "text": [
      "[0.148 0.173 0.333 0.438 0.49  0.494 0.611 0.644 0.7   0.812 0.866 0.913]\n"
     ]
    }
   ],
   "source": [
    "a = np.around(np.random.random(12), 3)\n",
    "a.sort()\n",
    "print(a)"
   ]
  },
  {
   "cell_type": "markdown",
   "metadata": {
    "id": "EokObmD7rCcv"
   },
   "source": [
    "---------\n",
    "7. Проверить, одинаковы ли 2 numpy массива:"
   ]
  },
  {
   "cell_type": "code",
   "execution_count": 8,
   "metadata": {
    "colab": {
     "base_uri": "https://localhost:8080/"
    },
    "id": "pVVt2WLxrHL6",
    "outputId": "081774d6-4969-404e-ce94-c45a856b4d60"
   },
   "outputs": [
    {
     "name": "stdout",
     "output_type": "stream",
     "text": [
      "Массив 1:\n",
      "[6 3 3 4 5 0 2 4 1 2]\n",
      "\n",
      "Массив 2:\n",
      "[4 0 0 3 1 4 0 1 4 0]\n",
      "\n",
      "Сравнение массивов (одинаковы ли):\n",
      "False\n"
     ]
    }
   ],
   "source": [
    "a = np.random.randint(0, 10, 10)\n",
    "b = np.random.randint(0, 5, 10)\n",
    "c = np.allclose(a, b)\n",
    "print(f'Массив 1:\\n{a}\\n')\n",
    "print(f'Массив 2:\\n{b}\\n')\n",
    "print(f'Сравнение массивов (одинаковы ли):\\n{c}')"
   ]
  },
  {
   "cell_type": "markdown",
   "metadata": {
    "id": "2gYKAUhTtjIk"
   },
   "source": [
    "---\n",
    "8. Сделать массив неизменяемым"
   ]
  },
  {
   "cell_type": "code",
   "execution_count": 9,
   "metadata": {
    "colab": {
     "base_uri": "https://localhost:8080/"
    },
    "id": "ofDaPuv_tm3t",
    "outputId": "2a51da39-2987-479b-d5ce-b76ce5c36138"
   },
   "outputs": [
    {
     "name": "stdout",
     "output_type": "stream",
     "text": [
      "Изначальный массив А:\n",
      "[0. 0. 0. 0. 0. 0. 0. 0. 0. 0.]\n",
      "\n",
      "\"Заблокированный\" массив А:\n",
      "[0. 0. 0. 0. 0. 0. 0. 0. 0. 0.]\n",
      "\n"
     ]
    }
   ],
   "source": [
    "a = np.zeros(10)\n",
    "print(f'Изначальный массив А:\\n{a}\\n')\n",
    "\n",
    "a.flags.writeable = False\n",
    "print(f'\"Заблокированный\" массив А:\\n{a}\\n')\n",
    "\n",
    "#print('Пытаемся поменять элемент массива...')\n",
    "#a[0] = 1\n",
    "#print(f'Кажется, получилось:\\n{a}')"
   ]
  },
  {
   "cell_type": "markdown",
   "metadata": {
    "id": "kaIH9-INbEzM"
   },
   "source": [
    "---\n",
    "9. Дан массив 10x2 (точки в декартовой системе координат), преобразовать в полярную:"
   ]
  },
  {
   "cell_type": "code",
   "execution_count": 10,
   "metadata": {
    "colab": {
     "base_uri": "https://localhost:8080/"
    },
    "id": "1ncNUgifduwt",
    "outputId": "a8a367ca-3bb5-40d5-c3b0-d02cd576d201"
   },
   "outputs": [
    {
     "name": "stdout",
     "output_type": "stream",
     "text": [
      "Исходный массив 10х2 (точки в Декартовой СК):\n",
      "[[0.23 0.32]\n",
      " [0.76 0.54]\n",
      " [0.94 0.92]\n",
      " [0.08 0.28]\n",
      " [0.74 0.27]\n",
      " [0.47 1.  ]\n",
      " [0.01 0.33]\n",
      " [0.33 0.32]\n",
      " [0.17 0.74]\n",
      " [0.4  0.14]]\n",
      "\n",
      "Координаты по оси X:\n",
      "[0.23 0.76 0.94 0.08 0.74 0.47 0.01 0.33 0.17 0.4 ]\n",
      "Координаты по оси Y:\n",
      "[0.32 0.54 0.92 0.28 0.27 1.   0.33 0.32 0.74 0.14]\n",
      "\n",
      "Перевод в Полярную СК:\n",
      "\n",
      "Значения радиус-вектора:\n",
      "[0.39 0.93 1.32 0.29 0.79 1.1  0.33 0.46 0.76 0.42]\n",
      "Значения угла \"фи\" в градусах:\n",
      "[54. 35. 44. 74. 20. 65. 88. 44. 77. 19.]\n"
     ]
    }
   ],
   "source": [
    "a = np.random.random([10, 2])\n",
    "a = np.around(a, 2)\n",
    "print(f'Исходный массив 10х2 (точки в Декартовой СК):\\n{a}\\n')\n",
    "\n",
    "x, y = a[:,0], a[:,1]\n",
    "print(f'Координаты по оси X:\\n{x}')\n",
    "print(f'Координаты по оси Y:\\n{y}\\n')\n",
    "\n",
    "print('Перевод в Полярную СК:\\n')\n",
    "\n",
    "r_vect = np.hypot(x, y)\n",
    "r_vect = np.around(r_vect, 2)\n",
    "\n",
    "phi = np.arctan2(y, x)\n",
    "phi_degr = phi * (180/np.pi)\n",
    "phi_degr = np.around(phi_degr)\n",
    "\n",
    "print(f'Значения радиус-вектора:\\n{r_vect}')\n",
    "print(f'Значения угла \"фи\" в градусах:\\n{phi_degr}')"
   ]
  },
  {
   "cell_type": "markdown",
   "metadata": {
    "id": "bGDyLYmFvB24"
   },
   "source": [
    "---\n",
    "10. Заменить максимальный элемент на ноль:"
   ]
  },
  {
   "cell_type": "code",
   "execution_count": 11,
   "metadata": {
    "colab": {
     "base_uri": "https://localhost:8080/"
    },
    "id": "J3HbiAX9vD_t",
    "outputId": "449f0641-6ced-4ea1-821a-2432cce7b82b"
   },
   "outputs": [
    {
     "name": "stdout",
     "output_type": "stream",
     "text": [
      "Исходный (отсортированный) массив:\n",
      "[0.115 0.148 0.171 0.263 0.266 0.65  0.672 0.716 0.799 0.914]\n",
      "\n",
      "Массив, где макс. элемент равен нулю:\n",
      "[0.115 0.148 0.171 0.263 0.266 0.65  0.672 0.716 0.799 0.   ]\n"
     ]
    }
   ],
   "source": [
    "a = np.random.random(10)\n",
    "a = np.around(a, 3)\n",
    "a = np.sort(a)\n",
    "print(f'Исходный (отсортированный) массив:\\n{a}\\n')\n",
    "\n",
    "a[a.argmax()] = 0\n",
    "print(f'Массив, где макс. элемент равен нулю:\\n{a}')"
   ]
  },
  {
   "cell_type": "markdown",
   "metadata": {
    "id": "zf3yRXscxNzB"
   },
   "source": [
    "---\n",
    "11. Создать структурированный массив с координатами x, y на сетке в квадрате [0,1]x[0,1]:"
   ]
  },
  {
   "cell_type": "code",
   "execution_count": 12,
   "metadata": {
    "id": "_7o-ZMnnxSrH"
   },
   "outputs": [
    {
     "name": "stdout",
     "output_type": "stream",
     "text": [
      "[[(0.  , 0.  ) (0.25, 0.  ) (0.5 , 0.  ) (0.75, 0.  ) (1.  , 0.  )]\n",
      " [(0.  , 0.25) (0.25, 0.25) (0.5 , 0.25) (0.75, 0.25) (1.  , 0.25)]\n",
      " [(0.  , 0.5 ) (0.25, 0.5 ) (0.5 , 0.5 ) (0.75, 0.5 ) (1.  , 0.5 )]\n",
      " [(0.  , 0.75) (0.25, 0.75) (0.5 , 0.75) (0.75, 0.75) (1.  , 0.75)]\n",
      " [(0.  , 1.  ) (0.25, 1.  ) (0.5 , 1.  ) (0.75, 1.  ) (1.  , 1.  )]]\n"
     ]
    }
   ],
   "source": [
    "n = 5\n",
    "b = np.zeros((n, n), [('x',float),('y',float)])\n",
    "b['x'], b['y'] = np.meshgrid(np.linspace(0, 1, n), np.linspace(0, 1, n))\n",
    "print(b)"
   ]
  },
  {
   "cell_type": "markdown",
   "metadata": {
    "id": "WaRLMwFr1r_4"
   },
   "source": [
    "---\n",
    "12. Из двух массивов сделать матрицу Коши C (Cij = 1/(xi - yj)):"
   ]
  },
  {
   "cell_type": "code",
   "execution_count": 13,
   "metadata": {},
   "outputs": [
    {
     "name": "stdout",
     "output_type": "stream",
     "text": [
      "x = [ 1  2  3  4  5  6  7  8  9 10]\n",
      "-----\n",
      "y = [ 1.5  2.5  3.5  4.5  5.5  6.5  7.5  8.5  9.5 10.5]\n",
      "-----\n",
      "C is:\n",
      "[[-2.   -0.67 -0.4  -0.29 -0.22 -0.18 -0.15 -0.13 -0.12 -0.11]\n",
      " [ 2.   -2.   -0.67 -0.4  -0.29 -0.22 -0.18 -0.15 -0.13 -0.12]\n",
      " [ 0.67  2.   -2.   -0.67 -0.4  -0.29 -0.22 -0.18 -0.15 -0.13]\n",
      " [ 0.4   0.67  2.   -2.   -0.67 -0.4  -0.29 -0.22 -0.18 -0.15]\n",
      " [ 0.29  0.4   0.67  2.   -2.   -0.67 -0.4  -0.29 -0.22 -0.18]\n",
      " [ 0.22  0.29  0.4   0.67  2.   -2.   -0.67 -0.4  -0.29 -0.22]\n",
      " [ 0.18  0.22  0.29  0.4   0.67  2.   -2.   -0.67 -0.4  -0.29]\n",
      " [ 0.15  0.18  0.22  0.29  0.4   0.67  2.   -2.   -0.67 -0.4 ]\n",
      " [ 0.13  0.15  0.18  0.22  0.29  0.4   0.67  2.   -2.   -0.67]\n",
      " [ 0.12  0.13  0.15  0.18  0.22  0.29  0.4   0.67  2.   -2.  ]]\n",
      "-----\n",
      "\n",
      "Determinant C = 34129.86645090223\n"
     ]
    }
   ],
   "source": [
    "n = 10\n",
    "x = np.arange(1, n + 1)\n",
    "y = x + 0.5\n",
    "c = np.around(1.0 / np.subtract.outer(x, y), 2)\n",
    "print(f'x = {x}\\n-----\\ny = {y}\\n-----\\nC is:\\n{c}\\n-----\\n')\n",
    "print(f'Determinant C = {np.linalg.det(c)}')"
   ]
  },
  {
   "cell_type": "markdown",
   "metadata": {},
   "source": [
    "---\n",
    "13. Найти минимальное и максимальное значение, принимаемое каждым числовым типом numpy:"
   ]
  },
  {
   "cell_type": "code",
   "execution_count": 14,
   "metadata": {},
   "outputs": [
    {
     "name": "stdout",
     "output_type": "stream",
     "text": [
      "Minimum of dtype[<class 'numpy.int8'>] -128\n",
      "127\n",
      "Minimum of dtype[<class 'numpy.int32'>] -2147483648\n",
      "2147483647\n",
      "Minimum of dtype[<class 'numpy.int64'>] -9223372036854775808\n",
      "9223372036854775807\n",
      "-3.4028235e+38\n",
      "3.4028235e+38\n",
      "1.1920929e-07\n",
      "-1.7976931348623157e+308\n",
      "1.7976931348623157e+308\n",
      "2.220446049250313e-16\n"
     ]
    }
   ],
   "source": [
    "for dtype in [np.int8, np.int32, np.int64]:\n",
    "    print(f'Minimum of dtype[{dtype}] {np.iinfo(dtype).min}')\n",
    "    print(np.iinfo(dtype).max)\n",
    "    \n",
    "for dtype in [np.float32, np.float64]:\n",
    "    print(np.finfo(dtype).min)\n",
    "    print(np.finfo(dtype).max)\n",
    "    print(np.finfo(dtype).eps)"
   ]
  },
  {
   "cell_type": "markdown",
   "metadata": {},
   "source": [
    "---\n",
    "14. Напечатать все значения в массиве:"
   ]
  },
  {
   "cell_type": "code",
   "execution_count": 15,
   "metadata": {},
   "outputs": [
    {
     "name": "stdout",
     "output_type": "stream",
     "text": [
      "Shortcut A:\n",
      "[[  1   2   3 ...   8   9  10]\n",
      " [ 11  12  13 ...  18  19  20]\n",
      " [ 21  22  23 ...  28  29  30]\n",
      " ...\n",
      " [ 71  72  73 ...  78  79  80]\n",
      " [ 81  82  83 ...  88  89  90]\n",
      " [ 91  92  93 ...  98  99 100]]\n",
      "\n",
      "--------------------\n",
      "\n",
      "Entire A:\n",
      "[[  1   2   3   4   5   6   7   8   9  10]\n",
      " [ 11  12  13  14  15  16  17  18  19  20]\n",
      " [ 21  22  23  24  25  26  27  28  29  30]\n",
      " [ 31  32  33  34  35  36  37  38  39  40]\n",
      " [ 41  42  43  44  45  46  47  48  49  50]\n",
      " [ 51  52  53  54  55  56  57  58  59  60]\n",
      " [ 61  62  63  64  65  66  67  68  69  70]\n",
      " [ 71  72  73  74  75  76  77  78  79  80]\n",
      " [ 81  82  83  84  85  86  87  88  89  90]\n",
      " [ 91  92  93  94  95  96  97  98  99 100]]\n"
     ]
    }
   ],
   "source": [
    "#print(np.get_printoptions()) #отображает настройки\n",
    "np.set_printoptions(threshold=0)\n",
    "n = 10\n",
    "a = np.arange(1, n*n+1).reshape(n, n)\n",
    "print(f'Shortcut A:\\n{a}\\n\\n--------------------\\n')\n",
    "\n",
    "np.set_printoptions(linewidth=n*n+1, threshold=n*n+1)\n",
    "print(f'Entire A:\\n{a}')"
   ]
  },
  {
   "cell_type": "markdown",
   "metadata": {},
   "source": [
    "---\n",
    "15. Найти ближайшее к заданному значению число в заданном массиве:"
   ]
  },
  {
   "cell_type": "code",
   "execution_count": 16,
   "metadata": {},
   "outputs": [
    {
     "name": "stdout",
     "output_type": "stream",
     "text": [
      "Start A:\n",
      "[ 0  2  4  6  8 10 12 14 16 18 20 22 24 26 28 30 32 34 36 38 40 42 44 46 48 50]\n",
      "-----\n",
      "Start B = 4.0340610505989405\n",
      "-----\n",
      "|A - B|:\n",
      "[4.03e+00 2.03e+00 3.41e-02 1.97e+00 3.97e+00 5.97e+00 7.97e+00 9.97e+00\n",
      " 1.20e+01 1.40e+01 1.60e+01 1.80e+01 2.00e+01 2.20e+01 2.40e+01 2.60e+01\n",
      " 2.80e+01 3.00e+01 3.20e+01 3.40e+01 3.60e+01 3.80e+01 4.00e+01 4.20e+01\n",
      " 4.40e+01 4.60e+01]\n",
      "-----\n",
      "Index = 2\n",
      "-----\n",
      "Nearest value in A = 4\n"
     ]
    }
   ],
   "source": [
    "np.set_printoptions(linewidth=80, precision=2, threshold=1000)\n",
    "\n",
    "n = 50\n",
    "a = np.arange(0, n+1, 2)\n",
    "print(f'Start A:\\n{a}\\n-----')\n",
    "\n",
    "b = np.random.uniform(1, n+1)\n",
    "print(f'Start B = {b}\\n-----')\n",
    "\n",
    "index = (np.abs(a - b)).argmin()\n",
    "print(f'|A - B|:\\n{np.abs(a-b)}\\n-----')\n",
    "print(f'Index = {index}\\n-----')\n",
    "\n",
    "print(f'Nearest value in A = {a[index]}')"
   ]
  },
  {
   "cell_type": "markdown",
   "metadata": {},
   "source": [
    "---\n",
    "16. Создать структурированный массив, представляющий координату (x,y) и цвет (r,g,b):"
   ]
  },
  {
   "cell_type": "code",
   "execution_count": 17,
   "metadata": {},
   "outputs": [
    {
     "name": "stdout",
     "output_type": "stream",
     "text": [
      "Start full array A:\n",
      "[((0., 0.), (0., 0., 0.)) ((0., 0.), (0., 0., 0.)) ((0., 0.), (0., 0., 0.)) ((0., 0.), (0., 0., 0.))\n",
      " ((0., 0.), (0., 0., 0.)) ((0., 0.), (0., 0., 0.)) ((0., 0.), (0., 0., 0.)) ((0., 0.), (0., 0., 0.))\n",
      " ((0., 0.), (0., 0., 0.)) ((0., 0.), (0., 0., 0.))]\n",
      "----------\n",
      "Only all colors:\n",
      "[( 0.,  1.,  5.) ( 2.,  3., 10.) ( 4.,  5., 15.) ( 6.,  7., 20.) ( 8.,  9., 25.) (10., 11., 30.)\n",
      " (12., 13., 35.) (14., 15., 40.) (16., 17., 45.) (18., 19., 50.)]\n",
      "----------\n",
      "Only all positions:\n",
      "[( 15.,  13.) ( 30.,  26.) ( 45.,  39.) ( 60.,  52.) ( 75.,  65.) ( 90.,  78.) (105.,  91.) (120., 104.)\n",
      " (135., 117.) (150., 130.)]\n",
      "----------\n",
      "End full array A:\n",
      "[(( 15.,  13.), ( 0.,  1.,  5.)) (( 30.,  26.), ( 2.,  3., 10.)) (( 45.,  39.), ( 4.,  5., 15.))\n",
      " (( 60.,  52.), ( 6.,  7., 20.)) (( 75.,  65.), ( 8.,  9., 25.)) (( 90.,  78.), (10., 11., 30.))\n",
      " ((105.,  91.), (12., 13., 35.)) ((120., 104.), (14., 15., 40.)) ((135., 117.), (16., 17., 45.))\n",
      " ((150., 130.), (18., 19., 50.))]\n",
      "----------\n",
      "Enter index of A (it will return red color):\n",
      "4\n",
      "Your red color = 8.0\n"
     ]
    }
   ],
   "source": [
    "np.set_printoptions(linewidth=110, precision=2, threshold=1000)\n",
    "\n",
    "n = 10\n",
    "a = np.zeros(n, [ ('position', [ ('x', float),\n",
    "                                   ('y', float)]),\n",
    "                    ('color',    [ ('r', float),\n",
    "                                   ('g', float),\n",
    "                                   ('b', float)])])\n",
    "print(f'Start full array A:\\n{a}\\n----------')\n",
    "\n",
    "a[\"color\"][\"r\"] = np.arange(0, 2*n, 2)\n",
    "a[\"color\"][\"g\"] = np.arange(1, 2*n+1, 2)\n",
    "a[\"color\"][\"b\"] = np.arange(5, 5*n+5, 5)\n",
    "print(f'Only all colors:\\n{a[\"color\"]}\\n----------')\n",
    "\n",
    "a[\"position\"][\"x\"] = np.arange(15, 15*n+15, 15)\n",
    "a[\"position\"][\"y\"] = np.arange(13, 13*n+13, 13)\n",
    "print(f'Only all positions:\\n{a[\"position\"]}\\n----------')\n",
    "\n",
    "print(f'End full array A:\\n{a}\\n----------')\n",
    "\n",
    "print('Enter index of A (it will return red color):')\n",
    "x = a[int(input())][\"color\"][\"r\"]\n",
    "print(f'Your red color = {x}')"
   ]
  },
  {
   "cell_type": "markdown",
   "metadata": {},
   "source": [
    "---\n",
    "17. Дан массив (100,2) координат, найти расстояние от каждой точки до каждой:"
   ]
  },
  {
   "cell_type": "code",
   "execution_count": 9,
   "metadata": {},
   "outputs": [
    {
     "name": "stdout",
     "output_type": "stream",
     "text": [
      "Start A:\n",
      "[[1 2]\n",
      " [3 4]\n",
      " [5 6]]\n",
      "----------\n",
      "[[0.   2.83 5.66]\n",
      " [2.83 0.   2.83]\n",
      " [5.66 2.83 0.  ]]\n"
     ]
    }
   ],
   "source": [
    "np.set_printoptions(linewidth=110, precision=2, threshold=0)\n",
    "\n",
    "import scipy.spatial\n",
    "\n",
    "n1 = 3\n",
    "n2 = 2\n",
    "\n",
    "a = np.arange(1, n1*n2+1).reshape(n1, n2)\n",
    "print(f'Start A:\\n{a}\\n----------')\n",
    "\n",
    "r = scipy.spatial.distance.cdist(a, a)\n",
    "print(r)"
   ]
  },
  {
   "cell_type": "markdown",
   "metadata": {},
   "source": [
    "---\n",
    "18. Преобразовать массив из float в int:"
   ]
  },
  {
   "cell_type": "code",
   "execution_count": 19,
   "metadata": {},
   "outputs": [
    {
     "name": "stdout",
     "output_type": "stream",
     "text": [
      "Start array A:\n",
      "[0. 1. 2. ... 7. 8. 9.]\n",
      "\n",
      "Start type A[i] = <class 'numpy.float32'>\n",
      "----------\n",
      "\n",
      "End array A:\n",
      "[0 1 2 ... 7 8 9]\n",
      "\n",
      "End type A[i] = <class 'numpy.int32'>\n",
      "\n"
     ]
    }
   ],
   "source": [
    "n = 10\n",
    "a = np.arange(n, dtype='f4')\n",
    "print(f'Start array A:\\n{a}\\n')\n",
    "print(f'Start type A[i] = {type(a[1])}\\n----------\\n')\n",
    "\n",
    "a = a.astype(np.int, copy=False)\n",
    "print(f'End array A:\\n{a}\\n')\n",
    "print(f'End type A[i] = {type(a[1])}\\n')"
   ]
  },
  {
   "cell_type": "markdown",
   "metadata": {},
   "source": [
    "---\n",
    "19. Дан файл \"LR_NP2_EX19.txt\":"
   ]
  },
  {
   "cell_type": "markdown",
   "metadata": {},
   "source": [
    "    1,2,3,4,5\n",
    "    6,,,7,8\n",
    "    ,,9,10,11\n",
    "    Как прочитать его?"
   ]
  },
  {
   "cell_type": "code",
   "execution_count": 5,
   "metadata": {},
   "outputs": [
    {
     "name": "stdout",
     "output_type": "stream",
     "text": [
      "Our file \"LR_NP2_EX19.txt\":\n",
      "\n",
      "[['1' '2' '3' '4' '5']\n",
      " ['6' '' '' '7' '8']\n",
      " ['' '' '9' '10' '11']]\n"
     ]
    }
   ],
   "source": [
    "fname = 'LR_NP2_EX19.txt'\n",
    "\n",
    "a = np.genfromtxt(fname, dtype='U', delimiter=\",\")\n",
    "\n",
    "print(f'Our file \"LR_NP2_EX19.txt\":\\n\\n{a}')"
   ]
  },
  {
   "cell_type": "markdown",
   "metadata": {},
   "source": [
    "---\n",
    "20. Каков эквивалент функции enumerate для numpy массивов?"
   ]
  },
  {
   "cell_type": "code",
   "execution_count": 21,
   "metadata": {},
   "outputs": [
    {
     "name": "stdout",
     "output_type": "stream",
     "text": [
      "Array A:\n",
      "[[ 1  4  7]\n",
      " [10 13 16]\n",
      " [19 22 25]]\n",
      "----------\n",
      "First method:\n",
      "String 1:\t(0, 0), 1\n",
      "String 1:\t(0, 1), 4\n",
      "String 1:\t(0, 2), 7\n",
      "String 2:\t(1, 0), 10\n",
      "String 2:\t(1, 1), 13\n",
      "String 2:\t(1, 2), 16\n",
      "String 3:\t(2, 0), 19\n",
      "String 3:\t(2, 1), 22\n",
      "String 3:\t(2, 2), 25\n",
      "----------\n",
      "Second method:\n",
      "String 1:\t(0, 0), 1\n",
      "String 1:\t(0, 1), 4\n",
      "String 1:\t(0, 2), 7\n",
      "String 2:\t(1, 0), 10\n",
      "String 2:\t(1, 1), 13\n",
      "String 2:\t(1, 2), 16\n",
      "String 3:\t(2, 0), 19\n",
      "String 3:\t(2, 1), 22\n",
      "String 3:\t(2, 2), 25\n"
     ]
    }
   ],
   "source": [
    "a = np.arange(1, 28, 3).reshape(3, 3)\n",
    "print(f'Array A:\\n{a}\\n----------')\n",
    "\n",
    "print('First method:')\n",
    "for index, value in np.ndenumerate(a):\n",
    "    print(f'String {index[0]+1}:\\t{index}, {value}')\n",
    "print('----------')\n",
    "\n",
    "print('Second method:')\n",
    "for index in np.ndindex(a.shape):\n",
    "    print(f'String {index[0]+1}:\\t{index}, {a[index]}')"
   ]
  },
  {
   "cell_type": "markdown",
   "metadata": {},
   "source": [
    "---\n",
    "21. Сформировать 2D массив с распределением Гаусса:"
   ]
  },
  {
   "cell_type": "code",
   "execution_count": 22,
   "metadata": {},
   "outputs": [
    {
     "name": "stdout",
     "output_type": "stream",
     "text": [
      "X:\n",
      "[[-1.   -0.78 -0.56 ...  0.56  0.78  1.  ]\n",
      " [-1.   -0.78 -0.56 ...  0.56  0.78  1.  ]\n",
      " [-1.   -0.78 -0.56 ...  0.56  0.78  1.  ]\n",
      " ...\n",
      " [-1.   -0.78 -0.56 ...  0.56  0.78  1.  ]\n",
      " [-1.   -0.78 -0.56 ...  0.56  0.78  1.  ]\n",
      " [-1.   -0.78 -0.56 ...  0.56  0.78  1.  ]]\n",
      "----------\n",
      "Y:\n",
      "[[-1.   -1.   -1.   ... -1.   -1.   -1.  ]\n",
      " [-0.78 -0.78 -0.78 ... -0.78 -0.78 -0.78]\n",
      " [-0.56 -0.56 -0.56 ... -0.56 -0.56 -0.56]\n",
      " ...\n",
      " [ 0.56  0.56  0.56 ...  0.56  0.56  0.56]\n",
      " [ 0.78  0.78  0.78 ...  0.78  0.78  0.78]\n",
      " [ 1.    1.    1.   ...  1.    1.    1.  ]]\n",
      "----------\n",
      "D:\n",
      "[[1.41 1.27 1.14 ... 1.14 1.27 1.41]\n",
      " [1.27 1.1  0.96 ... 0.96 1.1  1.27]\n",
      " [1.14 0.96 0.79 ... 0.79 0.96 1.14]\n",
      " ...\n",
      " [1.14 0.96 0.79 ... 0.79 0.96 1.14]\n",
      " [1.27 1.1  0.96 ... 0.96 1.1  1.27]\n",
      " [1.41 1.27 1.14 ... 1.14 1.27 1.41]]\n",
      "----------\n",
      "G:\n",
      "[[0.37 0.45 0.52 0.57 0.6  0.6  0.57 0.52 0.45 0.37]\n",
      " [0.45 0.55 0.63 0.7  0.73 0.73 0.7  0.63 0.55 0.45]\n",
      " [0.52 0.63 0.73 0.81 0.85 0.85 0.81 0.73 0.63 0.52]\n",
      " [0.57 0.7  0.81 0.89 0.94 0.94 0.89 0.81 0.7  0.57]\n",
      " [0.6  0.73 0.85 0.94 0.99 0.99 0.94 0.85 0.73 0.6 ]\n",
      " [0.6  0.73 0.85 0.94 0.99 0.99 0.94 0.85 0.73 0.6 ]\n",
      " [0.57 0.7  0.81 0.89 0.94 0.94 0.89 0.81 0.7  0.57]\n",
      " [0.52 0.63 0.73 0.81 0.85 0.85 0.81 0.73 0.63 0.52]\n",
      " [0.45 0.55 0.63 0.7  0.73 0.73 0.7  0.63 0.55 0.45]\n",
      " [0.37 0.45 0.52 0.57 0.6  0.6  0.57 0.52 0.45 0.37]]\n"
     ]
    }
   ],
   "source": [
    "np.set_printoptions(linewidth=110, precision=2, threshold=0)\n",
    "\n",
    "x, y = np.meshgrid(np.linspace(-1,1,10), np.linspace(-1,1,10))\n",
    "print(f'X:\\n{x}\\n----------\\nY:\\n{y}\\n----------')\n",
    "\n",
    "d = np.hypot(x, y)\n",
    "print(f'D:\\n{d}\\n----------')\n",
    "\n",
    "sigma, mu = 1.0, 0.0\n",
    "g = np.exp(-((d - mu) ** 2 / (2.0 * sigma ** 2)))\n",
    "\n",
    "np.set_printoptions(linewidth=110, precision=2, threshold=1000)\n",
    "print(f'G:\\n{g}')"
   ]
  },
  {
   "cell_type": "markdown",
   "metadata": {},
   "source": [
    "---\n",
    "22. Случайно расположить p элементов в 2D массив:"
   ]
  },
  {
   "cell_type": "code",
   "execution_count": 23,
   "metadata": {},
   "outputs": [
    {
     "name": "stdout",
     "output_type": "stream",
     "text": [
      "Random indexes of P:\n",
      "[71 27 57]\n",
      "----------\n",
      "2D array A with random P elements:\n",
      "[[  0.   0.   0.   0.   0.   0.   0.   0.   0.   0.]\n",
      " [  0.   0.   0.   0.   0.   0.   0.   0.   0.   0.]\n",
      " [  0.   0.   0.   0.   0.   0.   0. 100.   0.   0.]\n",
      " [  0.   0.   0.   0.   0.   0.   0.   0.   0.   0.]\n",
      " [  0.   0.   0.   0.   0.   0.   0.   0.   0.   0.]\n",
      " [  0.   0.   0.   0.   0.   0.   0. 100.   0.   0.]\n",
      " [  0.   0.   0.   0.   0.   0.   0.   0.   0.   0.]\n",
      " [  0. 100.   0.   0.   0.   0.   0.   0.   0.   0.]\n",
      " [  0.   0.   0.   0.   0.   0.   0.   0.   0.   0.]\n",
      " [  0.   0.   0.   0.   0.   0.   0.   0.   0.   0.]]\n"
     ]
    }
   ],
   "source": [
    "n = 10\n",
    "p = 3\n",
    "b = 100\n",
    "a = np.zeros((n,n))\n",
    "\n",
    "ind = np.random.choice(range(n*n), p, replace=False)\n",
    "print(f'Random indices of P:\\n{ind}\\n----------')\n",
    "\n",
    "np.put(a, ind, b)\n",
    "print(f'2D array A with random P elements:\\n{a}')"
   ]
  },
  {
   "cell_type": "markdown",
   "metadata": {},
   "source": [
    "---\n",
    "23. Отнять среднее из каждой строки в матрице:"
   ]
  },
  {
   "cell_type": "code",
   "execution_count": 24,
   "metadata": {},
   "outputs": [
    {
     "name": "stdout",
     "output_type": "stream",
     "text": [
      "A:\n",
      "[[ 0  1  2  3  4]\n",
      " [ 5  6  7  8  9]\n",
      " [10 11 12 13 14]\n",
      " [15 16 17 18 19]\n",
      " [20 21 22 23 24]]\n",
      "-----\n",
      "B (average of A rows/column):\n",
      "[[ 2.]\n",
      " [ 7.]\n",
      " [12.]\n",
      " [17.]\n",
      " [22.]]\n",
      "-----\n",
      "Difference of A and B:\n",
      "[[-2. -1.  0.  1.  2.]\n",
      " [-2. -1.  0.  1.  2.]\n",
      " [-2. -1.  0.  1.  2.]\n",
      " [-2. -1.  0.  1.  2.]\n",
      " [-2. -1.  0.  1.  2.]]\n"
     ]
    }
   ],
   "source": [
    "a = np.arange(0, 25).reshape(5, 5)\n",
    "print(f'A:\\n{a}\\n-----')\n",
    "\n",
    "b = a.mean(axis=1, keepdims=True)\n",
    "print(f'B (average of A rows/column):\\n{b}\\n-----')\n",
    "\n",
    "c = a - b \n",
    "print(f'Difference of A and B:\\n{c}')"
   ]
  },
  {
   "cell_type": "markdown",
   "metadata": {},
   "source": [
    "---\n",
    "24. Отсортировать матрицу по n-ому столбцу:"
   ]
  },
  {
   "cell_type": "code",
   "execution_count": 25,
   "metadata": {},
   "outputs": [
    {
     "name": "stdout",
     "output_type": "stream",
     "text": [
      "A in chaos:\n",
      "[[0 6 8 6 8]\n",
      " [1 9 6 8 6]\n",
      " [6 7 0 5 5]\n",
      " [5 5 7 1 0]\n",
      " [8 8 6 6 5]]\n",
      "---------\n",
      "Correct index order:\n",
      "[0 1 3 2 4]\n",
      "----------\n",
      "Put her(A) in order:\n",
      "[[0 6 8 6 8]\n",
      " [1 9 6 8 6]\n",
      " [5 5 7 1 0]\n",
      " [6 7 0 5 5]\n",
      " [8 8 6 6 5]]\n"
     ]
    }
   ],
   "source": [
    "a = np.random.randint(0, 10, (5, 5))\n",
    "n = 0\n",
    "print(f'A in chaos:\\n{a}\\n---------')\n",
    "\n",
    "b = a[:, n].argsort()\n",
    "print(f'Correct index order:\\n{b}\\n----------')\n",
    "\n",
    "c = a[b]\n",
    "print(f'Put her(A) in order:\\n{c}')"
   ]
  },
  {
   "cell_type": "markdown",
   "metadata": {},
   "source": [
    "---\n",
    "25. Определить, есть ли в 2D массиве нулевые столбцы:"
   ]
  },
  {
   "cell_type": "code",
   "execution_count": 26,
   "metadata": {},
   "outputs": [
    {
     "name": "stdout",
     "output_type": "stream",
     "text": [
      "A:\n",
      "[[1. 0. 1. 0. 1.]\n",
      " [1. 0. 1. 0. 1.]\n",
      " [1. 0. 1. 0. 1.]\n",
      " [1. 0. 1. 0. 1.]\n",
      " [1. 0. 1. 0. 1.]]\n",
      "-----------\n",
      "What about any non-zero columns in the A?\n",
      "Answer:\t[ True False  True False  True]\n",
      "---------\n",
      "What about any zero columns in the A?\n",
      "Answer:\t[False  True False  True False]\n",
      "---------\n",
      "Is there at least one any zero column in whole A?\n",
      "Answer:\tTrue\n"
     ]
    }
   ],
   "source": [
    "a = np.zeros((5, 5))\n",
    "a[:, 0::2] = 1\n",
    "print(f'A:\\n{a}\\n-----------')\n",
    "\n",
    "b = a.any(axis=0)\n",
    "print(f'What about any non-zero columns in the A?\\nAnswer:\\t{b}\\n---------')\n",
    "\n",
    "b = ~a.any(axis=0)\n",
    "print(f'What about any zero columns in the A?\\nAnswer:\\t{b}\\n---------')\n",
    "\n",
    "c = b.any()\n",
    "print(f'Is there at least one any zero column in whole A?\\nAnswer:\\t{c}')"
   ]
  },
  {
   "cell_type": "markdown",
   "metadata": {},
   "source": [
    "---\n",
    "26. Дан массив, добавить 1 к каждому элементу с индексом, заданным в другом массиве (осторожно с повторами):"
   ]
  },
  {
   "cell_type": "code",
   "execution_count": 73,
   "metadata": {},
   "outputs": [
    {
     "name": "stdout",
     "output_type": "stream",
     "text": [
      "Start A:\n",
      "[0 1 2 3 4 5 6 7 8 9]\n",
      "----------\n",
      "Bincount A:\n",
      "[1 1 1 1 1 1 1 1 1 1]\n",
      "----------\n",
      "Random B:\n",
      "[8 9 3 9 1 1 3 2 8 2 2 9 8 9 4 0 7 9 3 0]\n",
      "----------\n",
      "Bincount B:\n",
      "[2 2 3 3 1 0 0 1 3 5]\n",
      "----------\n",
      "Finally A:\n",
      "[ 2  3  5  6  5  5  6  8 11 14]\n"
     ]
    }
   ],
   "source": [
    "a = np.arange(10, dtype='i2')\n",
    "print(f'Start A:\\n{a}\\n----------')\n",
    "print(f'Bincount A:\\n{np.bincount(a, minlength=10)}\\n----------')\n",
    "\n",
    "b = np.random.randint(0, len(a), 20)\n",
    "print(f'Random B:\\n{b}\\n----------')\n",
    "print(f'Bincount B:\\n{np.bincount(b, minlength=len(a))}\\n----------')\n",
    "\n",
    "a += np.bincount(b, minlength=len(a))\n",
    "print(f'Finally A:\\n{a}')"
   ]
  },
  {
   "cell_type": "markdown",
   "metadata": {},
   "source": [
    "---\n",
    "27. Дан массив (w,h,3) (картинка) dtype=ubyte, посчитать количество различных цветов:"
   ]
  },
  {
   "cell_type": "code",
   "execution_count": 164,
   "metadata": {},
   "outputs": [
    {
     "name": "stdout",
     "output_type": "stream",
     "text": [
      "Start A:\n",
      "[[[ 82 172 194]\n",
      "  [  3 164 199]\n",
      "  [ 14 249  68]\n",
      "  [212  67 181]]\n",
      "\n",
      " [[ 53 181 109]\n",
      "  [ 32 216 192]\n",
      "  [198  50 150]\n",
      "  [151 121   2]]\n",
      "\n",
      " [[211 160  95]\n",
      "  [169 145 135]\n",
      "  [196 244  49]\n",
      "  [237 232 179]]\n",
      "\n",
      " [[180  71  11]\n",
      "  [138  58 122]\n",
      "  [ 37 106 209]\n",
      "  [243 221 215]]]\n",
      "----------\n",
      "B:\n",
      "[[ 5418178   238791   981316 13910965]\n",
      " [ 3519853  2152640 12989078  9926914]\n",
      " [13869151 11112839 12907569 15591603]\n",
      " [11814667  9058938  2452177 15982039]]\n",
      "----------\n",
      "Unique B:\n",
      "[  238791   981316  2152640  2452177  3519853  5418178\n",
      "  9058938  9926914 11112839 11814667 12907569 12989078\n",
      " 13869151 13910965 15591603 15982039]\n",
      "----------\n",
      "Unique N of B = 16\n",
      "----------\n",
      "Unique of A:\n",
      "[  2   3  11  14  32  37  49  50  53  58  67  68  71  82\n",
      "  95 106 109 121 122 135 138 145 150 151 160 164 169 172\n",
      " 179 180 181 192 194 196 198 199 209 211 212 215 216 221\n",
      " 232 237 243 244 249]\n"
     ]
    }
   ],
   "source": [
    "np.set_printoptions(linewidth=60, threshold=0)\n",
    "\n",
    "w, h = 4, 4\n",
    "a = np.random.randint(0, 256, (h, w, 3)).astype(np.ubyte)\n",
    "print(f'Start A:\\n{a}\\n----------')\n",
    "\n",
    "b = 256*256*a[...,0] + 256*a[...,1] + a[...,2]\n",
    "np.set_printoptions(threshold=1000)\n",
    "print(f'B:\\n{b}\\n----------')\n",
    "\n",
    "print(f'Unique B:\\n{np.unique(b)}\\n----------')\n",
    "n = len(np.unique(b))\n",
    "print(f'Unique N of B = {n}\\n----------')\n",
    "\n",
    "print(f'Unique of A:\\n{np.unique(a)}')"
   ]
  },
  {
   "cell_type": "markdown",
   "metadata": {},
   "source": [
    "---\n",
    "28. Дан четырехмерный массив, посчитать сумму по последним двум осям:"
   ]
  },
  {
   "cell_type": "code",
   "execution_count": 268,
   "metadata": {},
   "outputs": [
    {
     "name": "stdout",
     "output_type": "stream",
     "text": [
      "Number of rows\t-------\tX = 4\n",
      "Number of columns -----\tY = 5\n",
      "Number of blocks ------\tZ = 3\n",
      "Number of grid --------\tT = 2\n",
      "----------\n",
      "Start A:\n",
      "[[[[5 3 2 2 7]\n",
      "   [1 2 8 7 7]\n",
      "   [2 1 7 2 5]\n",
      "   [9 6 5 7 5]]\n",
      "\n",
      "  [[1 1 9 6 9]\n",
      "   [5 9 9 6 2]\n",
      "   [5 5 8 6 4]\n",
      "   [7 3 1 1 2]]\n",
      "\n",
      "  [[3 6 9 7 4]\n",
      "   [2 1 3 6 1]\n",
      "   [4 8 5 9 7]\n",
      "   [1 7 7 1 9]]]\n",
      "\n",
      "\n",
      " [[[1 3 4 4 5]\n",
      "   [9 4 6 5 5]\n",
      "   [2 2 1 2 4]\n",
      "   [9 7 5 7 8]]\n",
      "\n",
      "  [[6 8 3 1 1]\n",
      "   [4 5 5 9 4]\n",
      "   [4 6 4 5 4]\n",
      "   [8 2 3 5 6]]\n",
      "\n",
      "  [[9 8 5 4 7]\n",
      "   [3 5 5 6 5]\n",
      "   [7 5 4 7 8]\n",
      "   [2 9 1 6 5]]]]\n",
      "----------\n",
      "Shape B: (2, 3, -1)\n",
      "---------\n",
      "Reshape A in B:\n",
      "[[[5 3 2 ... 5 7 5]\n",
      "  [1 1 9 ... 1 1 2]\n",
      "  [3 6 9 ... 7 1 9]]\n",
      "\n",
      " [[1 3 4 ... 5 7 8]\n",
      "  [6 8 3 ... 3 5 6]\n",
      "  [9 8 5 ... 1 6 5]]]\n",
      "----------\n",
      "Sum by rows and columns:\n",
      "[[[ 93]\n",
      "  [ 99]\n",
      "  [100]]\n",
      "\n",
      " [[ 93]\n",
      "  [ 93]\n",
      "  [111]]]\n"
     ]
    }
   ],
   "source": [
    "np.set_printoptions(linewidth=100, threshold=0)\n",
    "x = 4\n",
    "y = 5\n",
    "z = 3\n",
    "t = 2\n",
    "print(f'''Number of rows\\t-------\\tX = {x}\\nNumber of columns -----\\tY = {y}\n",
    "Number of blocks ------\\tZ = {z}\\nNumber of grid --------\\tT = {v}\\n----------''')\n",
    "\n",
    "a = np.random.randint(1, 10, (t, z, x, y))\n",
    "print(f'Start A:\\n{a}\\n----------')\n",
    "\n",
    "b = a.shape[:-2] + (-1,)\n",
    "print(f'Shape B: {b}\\n---------')\n",
    "\n",
    "r =a.reshape(b)\n",
    "print(f'Reshape A in B:\\n{a.reshape(b)}\\n----------')\n",
    "\n",
    "c = r.sum(axis=-1, keepdims=True)\n",
    "print(f'Sum by rows and columns:\\n{c}')"
   ]
  },
  {
   "cell_type": "markdown",
   "metadata": {},
   "source": [
    "---\n",
    "29. Найти диагональные элементы произведения матриц:"
   ]
  },
  {
   "cell_type": "code",
   "execution_count": 296,
   "metadata": {},
   "outputs": [
    {
     "name": "stdout",
     "output_type": "stream",
     "text": [
      "Matrix A:\n",
      "[[6 1 2 ... 5 4 3]\n",
      " [6 7 9 ... 5 8 3]\n",
      " [2 3 9 ... 1 5 9]\n",
      " ...\n",
      " [5 1 1 ... 1 2 4]\n",
      " [7 3 2 ... 7 8 9]\n",
      " [3 4 7 ... 4 7 1]]\n",
      "----------\n",
      "Matrix B:\n",
      "[[12 15 11 ... 14 12  2]\n",
      " [17 12  6 ... 11  9 16]\n",
      " [13  8  4 ... 11 13 10]\n",
      " ...\n",
      " [ 6 17 10 ...  4 11  3]\n",
      " [15 10 17 ...  7 13 17]\n",
      " [ 5 16 17 ... 11 16 19]]\n",
      "----------\n",
      "Multiplication of matrices A and B: C = A * B\n",
      "[[2733 3047 2887 ... 2737 2561 2890]\n",
      " [2583 2950 2605 ... 2500 2456 2590]\n",
      " [2543 3136 2806 ... 2493 2606 2696]\n",
      " ...\n",
      " [2693 3088 2887 ... 2712 2707 2749]\n",
      " [2554 3056 2923 ... 2475 2599 2749]\n",
      " [2767 2999 2691 ... 2790 2423 2803]]\n",
      "----------\n",
      "Diagonal elements of C:\n",
      "[2733 2950 2806 ... 2712 2599 2803]\n"
     ]
    }
   ],
   "source": [
    "np.set_printoptions(linewidth=100, threshold=0)\n",
    "\n",
    "x = 30\n",
    "y = 50\n",
    "\n",
    "a = np.random.randint(1, 10, (x, y))\n",
    "print(f'Matrix A:\\n{a}\\n----------')\n",
    "\n",
    "b = np.random.randint(1, 20, (y, x))\n",
    "print(f'Matrix B:\\n{b}\\n----------')\n",
    "\n",
    "c = np.dot(a, b)\n",
    "print(f'Multiplication of matrices A and B: C = A * B\\n{c}\\n----------')\n",
    "\n",
    "d = np.diag(c)\n",
    "print(f'Diagonal elements of C:\\n{d}')"
   ]
  },
  {
   "cell_type": "markdown",
   "metadata": {},
   "source": [
    "---\n",
    "## My congratulations!\n",
    "## You completed NumPy Lab # 2 !"
   ]
  },
  {
   "cell_type": "markdown",
   "metadata": {},
   "source": [
    "---"
   ]
  }
 ],
 "metadata": {
  "colab": {
   "collapsed_sections": [],
   "name": "LR_NumPy_02.ipynb",
   "provenance": []
  },
  "kernelspec": {
   "display_name": "Python 3",
   "language": "python",
   "name": "python3"
  },
  "language_info": {
   "codemirror_mode": {
    "name": "ipython",
    "version": 3
   },
   "file_extension": ".py",
   "mimetype": "text/x-python",
   "name": "python",
   "nbconvert_exporter": "python",
   "pygments_lexer": "ipython3",
   "version": "3.8.5"
  }
 },
 "nbformat": 4,
 "nbformat_minor": 1
}
