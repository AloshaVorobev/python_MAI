{
 "cells": [
  {
   "cell_type": "markdown",
   "metadata": {},
   "source": [
    "## Лабораторная работа по NumPy №3"
   ]
  },
  {
   "cell_type": "markdown",
   "metadata": {},
   "source": [
    "Выполнил: студент гр. М8О-103М-20 Воробьев А.В."
   ]
  },
  {
   "cell_type": "markdown",
   "metadata": {},
   "source": [
    "---\n",
    "#### 0. Подключаем необходимые библиотеки:"
   ]
  },
  {
   "cell_type": "code",
   "execution_count": 1,
   "metadata": {},
   "outputs": [],
   "source": [
    "import numpy as np"
   ]
  },
  {
   "cell_type": "markdown",
   "metadata": {},
   "source": [
    "---\n",
    "#### 1. Дан вектор [1, 2, 3, 4, 5], построить новый вектор с тремя нулями между каждым значением:"
   ]
  },
  {
   "cell_type": "code",
   "execution_count": 2,
   "metadata": {},
   "outputs": [
    {
     "name": "stdout",
     "output_type": "stream",
     "text": [
      "Start vector A: [1 2 3 4 5]\n",
      "----------\n",
      "Number of zeros N = 1\n",
      "----------\n",
      "Start vector B:\n",
      "[0. 0. 0. 0. 0. 0. 0. 0. 0.]\n",
      "----------\n",
      "End vector B:\n",
      "[1. 0. 2. 0. 3. 0. 4. 0. 5.]\n"
     ]
    }
   ],
   "source": [
    "a = np.array([1,2,3,4,5])\n",
    "print(f'Start vector A: {a}\\n----------')\n",
    "\n",
    "n = 1\n",
    "print(f'Number of zeros N = {n}\\n----------')\n",
    "\n",
    "b = np.zeros(len(a) + (len(a)-1)*n)\n",
    "print(f'Start vector B:\\n{b}\\n----------')\n",
    "\n",
    "b[::n+1] = a\n",
    "print(f'End vector B:\\n{b}')"
   ]
  },
  {
   "cell_type": "markdown",
   "metadata": {},
   "source": [
    "---\n",
    "#### 2. Поменять 2 строки в матрице:"
   ]
  },
  {
   "cell_type": "code",
   "execution_count": 3,
   "metadata": {},
   "outputs": [
    {
     "name": "stdout",
     "output_type": "stream",
     "text": [
      "Start matrix A:\n",
      "[[17 21 20 16  7]\n",
      " [24 10  8 19 19]\n",
      " [20 12 10 10  4]\n",
      " [24 20  5 18 18]\n",
      " [12 21 21 24 20]]\n",
      "----------\n",
      "One way:\n",
      "End matix A (1st and 2nd rows are changed):\n",
      "[[24 10  8 19 19]\n",
      " [17 21 20 16  7]\n",
      " [20 12 10 10  4]\n",
      " [24 20  5 18 18]\n",
      " [12 21 21 24 20]]\n",
      "----------\n",
      "Another way:\n",
      "End matix A (1st and 2nd rows are changed):\n",
      "[[24 10  8 19 19]\n",
      " [17 21 20 16  7]\n",
      " [20 12 10 10  4]\n",
      " [24 20  5 18 18]\n",
      " [12 21 21 24 20]]\n"
     ]
    }
   ],
   "source": [
    "a = np.random.randint(1, 25, (5, 5))\n",
    "print(f'Start matrix A:\\n{a}\\n----------')\n",
    "\n",
    "print('One way:')\n",
    "a[:2:] = a[1::-1]\n",
    "print(f'End matix A (1st and 2nd rows are changed):\\n{a}\\n----------')\n",
    "\n",
    "print('Another way:')\n",
    "a[:2:] = a[1::-1]\n",
    "a[[0, 1]] = a[[1, 0]]\n",
    "print(f'End matix A (1st and 2nd rows are changed):\\n{a}')"
   ]
  },
  {
   "cell_type": "markdown",
   "metadata": {},
   "source": [
    "---\n",
    "#### 3. Рассмотрим набор из 10 троек, описывающих 10 треугольников (с общими вершинами), найти множество уникальных отрезков, составляющих все треугольники:"
   ]
  },
  {
   "cell_type": "code",
   "execution_count": 4,
   "metadata": {},
   "outputs": [
    {
     "name": "stdout",
     "output_type": "stream",
     "text": [
      "Start set of triplets A:\n",
      "[[ 4 79 30]\n",
      " [21 71 92]\n",
      " [ 9 30 87]\n",
      " ...\n",
      " [92 71 61]\n",
      " [70 20 25]\n",
      " [65 45  1]]\n",
      "----------\n",
      "Repeat columns of A (B):\n",
      "[[ 4  4 79 79 30 30]\n",
      " [21 21 71 71 92 92]\n",
      " [ 9  9 30 30 87 87]\n",
      " ...\n",
      " [92 92 71 71 61 61]\n",
      " [70 70 20 20 25 25]\n",
      " [65 65 45 45  1  1]]\n",
      "----------\n",
      "Roll columns of B (C):\n",
      "[[ 4 79 79 30 30  4]\n",
      " [21 71 71 92 92 21]\n",
      " [ 9 30 30 87 87  9]\n",
      " ...\n",
      " [92 71 71 61 61 92]\n",
      " [70 20 20 25 25 70]\n",
      " [65 45 45  1  1 65]]\n",
      "----------\n",
      "Reshape of C (D):\n",
      "[[ 4 79]\n",
      " [79 30]\n",
      " [30  4]\n",
      " ...\n",
      " [65 45]\n",
      " [45  1]\n",
      " [ 1 65]]\n",
      "----------\n",
      "Sort of D (F):\n",
      "[[ 4 79]\n",
      " [30 79]\n",
      " [ 4 30]\n",
      " ...\n",
      " [45 65]\n",
      " [ 1 45]\n",
      " [ 1 65]]\n",
      "----------\n",
      "View of F (G):\n",
      "[[( 4, 79)]\n",
      " [(30, 79)]\n",
      " [( 4, 30)]\n",
      " ...\n",
      " [(45, 65)]\n",
      " [( 1, 45)]\n",
      " [( 1, 65)]]\n",
      "----------\n",
      "Unique of G (H):\n",
      "[( 1, 45) ( 1, 65) ( 4, 30) ( 4, 79) ( 5,  8)\n",
      " ( 5, 74) ( 8, 74) ( 9, 30) ( 9, 87) (10, 55)\n",
      " (10, 72) (11, 30) (11, 66) (20, 25) (20, 70)\n",
      " (21, 71) (21, 92) (25, 70) (28, 64) (28, 68)\n",
      " (30, 66) (30, 79) (30, 87) (45, 65) (55, 72)\n",
      " (61, 71) (61, 92) (64, 68) (71, 92)]\n"
     ]
    }
   ],
   "source": [
    "np.set_printoptions(linewidth=75, threshold=0)\n",
    "\n",
    "a = np.random.randint(0, 100, (10, 3))\n",
    "print(f'Start set of triplets A:\\n{a}\\n----------')\n",
    "\n",
    "b = np.repeat(a, 2, axis=1)\n",
    "print(f'Repeat columns of A (B):\\n{b}\\n----------')\n",
    "\n",
    "c = np.roll(b, -1, axis=1)\n",
    "print(f'Roll columns of B (C):\\n{c}\\n----------')\n",
    "\n",
    "d = np.reshape(c, (len(c)*3, 2))\n",
    "print(f'Reshape of C (D):\\n{d}\\n----------')\n",
    "\n",
    "f = np.sort(d, axis=1)\n",
    "print(f'Sort of D (F):\\n{f}\\n----------')\n",
    "\n",
    "g = f.view(dtype=[('p0', f.dtype), ('p1', f.dtype)])\n",
    "print(f'View of F (G):\\n{g}\\n----------')\n",
    "\n",
    "np.set_printoptions(linewidth=50, threshold=1000)\n",
    "h = np.unique(g)\n",
    "print(f'Unique of G (H):\\n{h}')"
   ]
  },
  {
   "cell_type": "markdown",
   "metadata": {},
   "source": [
    "---\n",
    "#### 4. Дан массив C; создать массив A, что np.bincount(A) == C:"
   ]
  },
  {
   "cell_type": "code",
   "execution_count": 5,
   "metadata": {},
   "outputs": [
    {
     "name": "stdout",
     "output_type": "stream",
     "text": [
      "Start array C:\n",
      "[0 2 1 1 2 0 1]\n",
      "----------\n",
      "Intermediate array B:\n",
      "[0 1 2 3 4 5 6]\n",
      "----------\n",
      "End array A:\n",
      "[1 1 2 3 4 4 6]\n"
     ]
    }
   ],
   "source": [
    "c = np.bincount([1,1,2,3,4,4,6])\n",
    "print(f'Start array C:\\n{c}\\n----------')\n",
    "\n",
    "b = np.arange(len(c))\n",
    "print(f'Intermediate array B:\\n{b}\\n----------')\n",
    "\n",
    "a = np.repeat(b, c)\n",
    "print(f'End array A:\\n{a}')"
   ]
  },
  {
   "cell_type": "markdown",
   "metadata": {},
   "source": [
    "---\n",
    "#### 5. Посчитать среднее, используя плавающее окно:"
   ]
  },
  {
   "cell_type": "code",
   "execution_count": 17,
   "metadata": {},
   "outputs": [
    {
     "name": "stdout",
     "output_type": "stream",
     "text": [
      "Number of elements in B = 100\n",
      "----------\n",
      "Number of expelled elements B = 23\n",
      "----------\n",
      "Start array B:\n",
      "[  1   2   3 ...  98  99 100]\n",
      "----------\n",
      "Moving average of an B:\n",
      "[12. 13. 14. ... 87. 88. 89.]\n"
     ]
    }
   ],
   "source": [
    "np.set_printoptions(linewidth=100, precision=3, threshold=10)\n",
    "def moving_average(a, n):\n",
    "    #print('* Start \"moving average\" function *\\n----------')\n",
    "    ret = np.cumsum(a, dtype=float)\n",
    "    #print(f'Cum Sum of A:\\n{ret}\\n----------')\n",
    "    \n",
    "    #print(f'Start ret[{n}:]:\\n{ret[n:]}\\n----------')\n",
    "    \n",
    "    ret[n:] = ret[n:] - ret[:-n]\n",
    "    #print(f'ret[:-{n}]:\\n{ret[:-n]}\\n----------')\n",
    "    #print(f'End ret[{n}:] = ret[{n}:] - ret[:-{n}]:\\n{ret[n:]}\\n----------')\n",
    "    #print(f'ret:\\n{ret}\\n----------')\n",
    "    return ret[n - 1:] / n\n",
    "\n",
    "n1 = 100\n",
    "print(f'Number of elements in B = {n1}\\n----------')\n",
    "\n",
    "n2 = 23\n",
    "print(f'Number of expelled elements B = {n2}\\n----------')\n",
    "\n",
    "b = np.arange(1, n1+1)\n",
    "print(f'Start array B:\\n{b}\\n----------')\n",
    "\n",
    "c = moving_average(b, n2)\n",
    "print(f'Moving average of an B:\\n{c}')"
   ]
  },
  {
   "cell_type": "markdown",
   "metadata": {},
   "source": [
    "---\n",
    "#### 6. Дан вектор Z, построить матрицу, первая строка которой (Z[0],Z[1],Z[2]), каждая последующая сдвинута на 1 (последняя (Z[-3],Z[-2],Z[-1])):"
   ]
  },
  {
   "cell_type": "code",
   "execution_count": 41,
   "metadata": {},
   "outputs": [
    {
     "name": "stdout",
     "output_type": "stream",
     "text": [
      "Start vector A: [0 1 2 3 4 5 6 7 8 9]\n",
      "----------\n",
      "Start shape = (10,)\n",
      "New shape = (8, 3)\n",
      "Strides of A = (4, 4)\n",
      "----------\n",
      "End matrix Z:\n",
      "[[0 1 2]\n",
      " [1 2 3]\n",
      " [2 3 4]\n",
      " [3 4 5]\n",
      " [4 5 6]\n",
      " [5 6 7]\n",
      " [6 7 8]\n",
      " [7 8 9]]\n"
     ]
    }
   ],
   "source": [
    "np.set_printoptions(linewidth=100, precision=3, threshold=10000)\n",
    "from numpy.lib import stride_tricks\n",
    "\n",
    "def rolling(a, window):\n",
    "    shape = (a.size - window + 1, window)\n",
    "    print(f'New shape = {shape}')\n",
    "    \n",
    "    strides = (a.itemsize, a.itemsize)\n",
    "    print(f'Strides of A = {strides}')\n",
    "    \n",
    "    return stride_tricks.as_strided(a, shape=shape, strides=strides)\n",
    "\n",
    "n1 = 10\n",
    "n2 = 3\n",
    "\n",
    "b = np.arange(n1)\n",
    "print(f'Start vector A: {b}\\n----------')\n",
    "print(f'Start shape = {b.shape}')\n",
    "\n",
    "z = rolling(b, n2)\n",
    "print(f'----------\\nEnd matrix Z:\\n{z}')"
   ]
  },
  {
   "cell_type": "markdown",
   "metadata": {},
   "source": [
    "---\n",
    "#### 7. Инвертировать булево значение, или поменять знак у числового массива без создания нового:"
   ]
  },
  {
   "cell_type": "code",
   "execution_count": 93,
   "metadata": {},
   "outputs": [
    {
     "name": "stdout",
     "output_type": "stream",
     "text": [
      "Start array A:\n",
      "[0 1 1 0 1 1 0 0 0 0 0 1 0 0 1 0 1 0 1 0]\n",
      "----------\n",
      "Not logical of A:\n",
      "[1 0 0 1 0 0 1 1 1 1 1 0 1 1 0 1 0 1 0 1]\n",
      "==================================================\n",
      "Start Z:\n",
      "[ 0.726  0.302  0.246  0.881  0.452  0.033  0.184 -0.675  0.294  0.985 -0.075\n",
      " -0.329 -0.368 -0.931  0.999  0.732 -0.797 -0.094 -0.505  0.359]\n",
      "----------\n",
      "Negative of Z:\n",
      "[-0.726 -0.302 -0.246 -0.881 -0.452 -0.033 -0.184  0.675 -0.294 -0.985  0.075\n",
      "  0.329  0.368  0.931 -0.999 -0.732  0.797  0.094  0.505 -0.359]\n"
     ]
    }
   ],
   "source": [
    "np.set_printoptions(linewidth=80, precision=3, threshold=1000)\n",
    "\n",
    "a = np.random.randint(0, 2, 20)\n",
    "print(f'Start array A:\\n{a}\\n----------')\n",
    "\n",
    "print(f'Not logical of A:\\n{np.logical_not(a, out=a)}')\n",
    "print('==================================================')\n",
    "\n",
    "z = np.random.uniform(-1.0, 1.0, 20)\n",
    "print(f'Start Z:\\n{z}\\n----------')\n",
    "\n",
    "print(f'Negative of Z:\\n{np.negative(z, out=z)}')"
   ]
  },
  {
   "cell_type": "markdown",
   "metadata": {},
   "source": [
    "---\n",
    "#### 8. Посчитать ранг матрицы:"
   ]
  },
  {
   "cell_type": "code",
   "execution_count": 91,
   "metadata": {},
   "outputs": [
    {
     "name": "stdout",
     "output_type": "stream",
     "text": [
      "Matrix A:\n",
      "[[0.366 0.413 0.621 0.882 0.999 0.207 0.21  0.766 0.793 0.649]\n",
      " [0.159 0.025 0.227 0.472 0.972 0.076 0.459 0.675 0.969 0.205]\n",
      " [0.82  0.52  0.869 0.113 0.959 0.724 0.238 0.565 0.582 0.532]\n",
      " [0.337 0.603 0.592 0.931 0.877 0.775 0.453 0.686 0.448 0.769]\n",
      " [0.238 0.704 0.587 0.101 0.18  0.808 0.386 0.374 0.262 0.164]\n",
      " [0.697 0.157 0.725 0.765 0.255 0.871 0.878 0.325 0.581 0.8  ]\n",
      " [0.574 0.67  0.39  0.843 0.32  0.916 0.274 0.88  0.93  0.82 ]\n",
      " [0.207 0.764 0.509 0.211 0.971 0.423 0.523 0.362 0.137 0.227]\n",
      " [0.447 0.969 0.586 0.199 0.493 0.44  0.127 0.788 0.341 0.448]\n",
      " [0.589 0.458 0.692 0.294 0.122 0.397 0.63  0.994 0.036 0.1  ]]\n",
      "----------\n",
      "Rank of matrix A = 10\n"
     ]
    }
   ],
   "source": [
    "a = np.random.uniform(0, 1, (10,10))\n",
    "print(f'Matrix A:\\n{a}\\n----------')\n",
    "\n",
    "rank = np.linalg.matrix_rank(a)\n",
    "print(f'Rank of matrix A = {rank}')"
   ]
  },
  {
   "cell_type": "markdown",
   "metadata": {},
   "source": [
    "---\n",
    "#### 9. Найти наиболее частое значение в массиве:"
   ]
  },
  {
   "cell_type": "code",
   "execution_count": 112,
   "metadata": {},
   "outputs": [
    {
     "name": "stdout",
     "output_type": "stream",
     "text": [
      "Start array A:\n",
      "[ 4 10  6  5  5  1  9  1  7 10  4 10  8  3  3  8  9 10  3  8  2  8  7  3  2  8\n",
      "  6 10  5  7  7  8  7  7  2  3 10  8  2  9  8  4  9  5  8  3  2  6 10  2  7  9\n",
      "  1  3  3 10  3  8 10  8  8  1  4  3 10  8  3  6  4  8  9  7  5  3  5  4 10  2\n",
      " 10  8  1 10  1  4  6  8  9  2 10  4  9 10 10  1  9  7  7  1  6  5]\n",
      "----------\n",
      "Bincount of A:\n",
      "[ 0  8  8 12  8  7  6 10 16  9 16]\n",
      "----------\n",
      "The most common value in A = 8\n"
     ]
    }
   ],
   "source": [
    "a = np.random.randint(1, 11, 100)\n",
    "print(f'Start array A:\\n{a}\\n----------')\n",
    "\n",
    "b = np.bincount(a)\n",
    "print(f'Bincount of A:\\n{b}\\n----------')\n",
    "\n",
    "c = b.argmax()\n",
    "print(f'The most common value in A = {c}')"
   ]
  },
  {
   "cell_type": "markdown",
   "metadata": {},
   "source": [
    "---\n",
    "#### 10. Извлечь все смежные 3x3 блоки из 10x10 матрицы:"
   ]
  },
  {
   "cell_type": "code",
   "execution_count": 148,
   "metadata": {},
   "outputs": [
    {
     "name": "stdout",
     "output_type": "stream",
     "text": [
      "Start matrix A:\n",
      "[[1 7 5 4]\n",
      " [3 1 8 9]\n",
      " [5 6 9 3]\n",
      " [9 7 7 4]]\n",
      "----------\n",
      "Size of new blocks N = 3x3\n",
      "Number of grid of cortege new A ----- i = 2\n",
      "Number of cortege of blocks new A --- j = 2\n",
      "----------\n",
      "New shape = (2, 2, 3, 3)\n",
      "----------\n",
      "Strides = (16, 4, 16, 4)\n",
      "----------\n",
      "Final Extracted Blocks:\n",
      "[[[[1 7 5]\n",
      "   [3 1 8]\n",
      "   [5 6 9]]\n",
      "\n",
      "  [[7 5 4]\n",
      "   [1 8 9]\n",
      "   [6 9 3]]]\n",
      "\n",
      "\n",
      " [[[3 1 8]\n",
      "   [5 6 9]\n",
      "   [9 7 7]]\n",
      "\n",
      "  [[1 8 9]\n",
      "   [6 9 3]\n",
      "   [7 7 4]]]]\n"
     ]
    }
   ],
   "source": [
    "np.set_printoptions(linewidth=80, precision=3, threshold=1000)\n",
    "\n",
    "a = np.random.randint(1, 10, (4, 4))\n",
    "print(f'Start matrix A:\\n{a}\\n----------')\n",
    "\n",
    "n = 3\n",
    "print(f'Size of new blocks N = {n}x{n}')\n",
    "i = 1 + (a.shape[0] - n)\n",
    "j = 1 + (a.shape[1] - n)\n",
    "print(f'Number of grid of cortege new A ----- i = {i}')\n",
    "print(f'Number of cortege of blocks new A --- j = {j}\\n----------')\n",
    "\n",
    "sh = (i, j, n, n)\n",
    "print(f'New shape = {sh}\\n----------')\n",
    "\n",
    "st = a.strides + a.strides\n",
    "print(f'Strides = {st}\\n----------')\n",
    "\n",
    "c = stride_tricks.as_strided(a, shape=sh, strides=st)\n",
    "print(f'Final Extracted Blocks:\\n{c}')"
   ]
  },
  {
   "cell_type": "markdown",
   "metadata": {},
   "source": [
    "---\n",
    "#### 11. Рассмотрим множество матриц (n, n) и множество из P векторов (n,1). Посчитать сумму P произведений матриц (результат имеет размерность (n,1)):"
   ]
  },
  {
   "cell_type": "code",
   "execution_count": 169,
   "metadata": {},
   "outputs": [
    {
     "name": "stdout",
     "output_type": "stream",
     "text": [
      "Set of matrices (4, 4):\n",
      "[[[1. 1. 1. 1.]\n",
      "  [1. 1. 1. 1.]\n",
      "  [1. 1. 1. 1.]\n",
      "  [1. 1. 1. 1.]]\n",
      "\n",
      " [[1. 1. 1. 1.]\n",
      "  [1. 1. 1. 1.]\n",
      "  [1. 1. 1. 1.]\n",
      "  [1. 1. 1. 1.]]\n",
      "\n",
      " [[1. 1. 1. 1.]\n",
      "  [1. 1. 1. 1.]\n",
      "  [1. 1. 1. 1.]\n",
      "  [1. 1. 1. 1.]]]\n",
      "----------\n",
      "Set of 3 Vectors:\n",
      "[[[1.]\n",
      "  [1.]\n",
      "  [1.]\n",
      "  [1.]]\n",
      "\n",
      " [[1.]\n",
      "  [1.]\n",
      "  [1.]\n",
      "  [1.]]\n",
      "\n",
      " [[1.]\n",
      "  [1.]\n",
      "  [1.]\n",
      "  [1.]]]\n",
      "----------\n",
      "Sum of products of matrices and vectors:\n",
      "[[12.]\n",
      " [12.]\n",
      " [12.]\n",
      " [12.]]\n"
     ]
    }
   ],
   "source": [
    "np.set_printoptions(linewidth=80, precision=3, threshold=0)\n",
    "\n",
    "p, n = 3, 4\n",
    "\n",
    "m = np.ones((p, n, n))\n",
    "print(f'Set of matrices ({n}, {n}):\\n{m}\\n----------')\n",
    "\n",
    "v = np.ones((p, n, 1))\n",
    "print(f'Set of {p} Vectors:\\n{v}\\n----------')\n",
    "\n",
    "x = np.tensordot(m, v, axes=[[0, 2], [0, 1]])\n",
    "print(f'Sum of products of matrices and vectors:\\n{x}')"
   ]
  },
  {
   "cell_type": "markdown",
   "metadata": {},
   "source": [
    "---\n",
    "12. Дан массив 16x16, посчитать сумму по блокам 4x4:"
   ]
  },
  {
   "cell_type": "code",
   "execution_count": 4,
   "metadata": {},
   "outputs": [
    {
     "data": {
      "text/plain": [
       "array([[16., 16., 16., 16.],\n",
       "       [16., 16., 16., 16.],\n",
       "       [16., 16., 16., 16.],\n",
       "       [16., 16., 16., 16.]])"
      ]
     },
     "execution_count": 4,
     "metadata": {},
     "output_type": "execute_result"
    }
   ],
   "source": [
    "Z = np.ones((16,16))\n",
    "\n",
    "k = 4\n",
    "\n",
    "\n",
    "\n",
    "S = np.add.reduceat(np.add.reduceat(Z, np.arange(0, Z.shape[0], k), axis=0),\n",
    "                                       np.arange(0, Z.shape[1], k), axis=1)\n",
    "S"
   ]
  },
  {
   "cell_type": "markdown",
   "metadata": {},
   "source": [
    "---\n",
    "13. Найти n наибольших значений в массиве:"
   ]
  },
  {
   "cell_type": "code",
   "execution_count": null,
   "metadata": {},
   "outputs": [],
   "source": [
    "Z = np.arange(10000)\n",
    "np.random.shuffle(Z)\n",
    "n = 5\n",
    "\n",
    "print (Z[np.argpartition(-Z,n)[:n]])"
   ]
  },
  {
   "cell_type": "markdown",
   "metadata": {},
   "source": [
    "---\n",
    "14. Построить прямое произведение массивов (все комбинации с каждым элементом):"
   ]
  },
  {
   "cell_type": "code",
   "execution_count": null,
   "metadata": {},
   "outputs": [],
   "source": [
    "def cartesian(arrays):\n",
    "    arrays = [np.asarray(a) for a in arrays]\n",
    "    shape = map(len, arrays)\n",
    "\n",
    "    ix = np.indices(shape, dtype=int)\n",
    "    ix = ix.reshape(len(arrays), -1).T\n",
    "\n",
    "    for n, arr in enumerate(arrays):\n",
    "        ix[:, n] = arrays[n][ix[:, n]]\n",
    "\n",
    "    return ix\n",
    "\n",
    "print(cartesian(([1, 2, 3], [4, 5], [6, 7])))"
   ]
  },
  {
   "cell_type": "markdown",
   "metadata": {},
   "source": [
    "---\n",
    "15. Даны 2 массива A (8x3) и B (2x2). Найти строки в A, которые содержат элементы из каждой строки в B, независимо от порядка элементов в B:"
   ]
  },
  {
   "cell_type": "code",
   "execution_count": null,
   "metadata": {},
   "outputs": [],
   "source": [
    "A = np.random.randint(0,5,(8,3))\n",
    "B = np.random.randint(0,5,(2,2))\n",
    "\n",
    "C = (A[..., np.newaxis, np.newaxis] == B)\n",
    "rows = (C.sum(axis=(1,2,3)) >= B.shape[1]).nonzero()[0]\n",
    "print(rows)"
   ]
  },
  {
   "cell_type": "markdown",
   "metadata": {},
   "source": [
    "---\n",
    "16. Дана 10x3 матрица, найти строки из неравных значений (например [2,2,3]):"
   ]
  },
  {
   "cell_type": "code",
   "execution_count": null,
   "metadata": {},
   "outputs": [],
   "source": [
    "Z = np.random.randint(0,5,(10,3))\n",
    "E = np.logical_and.reduce(Z[:,1:] == Z[:,:-1], axis=1)\n",
    "U = Z[~E]\n",
    "print(Z)\n",
    "print(U)"
   ]
  },
  {
   "cell_type": "markdown",
   "metadata": {},
   "source": [
    "---\n",
    "17. Преобразовать вектор чисел в матрицу бинарных представлений:"
   ]
  },
  {
   "cell_type": "code",
   "execution_count": null,
   "metadata": {},
   "outputs": [],
   "source": [
    "I = np.array([0, 1, 2, 3, 15, 16, 32, 64, 128], dtype=np.uint8)\n",
    "print(np.unpackbits(I[:, np.newaxis], axis=1))"
   ]
  },
  {
   "cell_type": "markdown",
   "metadata": {},
   "source": [
    "---\n",
    "18. Дан двумерный массив. Найти все различные строки:"
   ]
  },
  {
   "cell_type": "code",
   "execution_count": null,
   "metadata": {},
   "outputs": [],
   "source": [
    "Z = np.random.randint(0, 2, (6,3))\n",
    "T = np.ascontiguousarray(Z).view(np.dtype((np.void, Z.dtype.itemsize * Z.shape[1])))\n",
    "_, idx = np.unique(T, return_index=True)\n",
    "uZ = Z[idx]\n",
    "print(uZ)"
   ]
  },
  {
   "cell_type": "markdown",
   "metadata": {},
   "source": [
    "---\n",
    "19. Даны векторы A и B, написать einsum эквиваленты функций inner, outer, sum и mul:"
   ]
  },
  {
   "cell_type": "code",
   "execution_count": null,
   "metadata": {},
   "outputs": [],
   "source": [
    "# Make sure to read: http://ajcr.net/Basic-guide-to-einsum/\n",
    "\n",
    "np.einsum('i->', A)       # np.sum(A)\n",
    "np.einsum('i,i->i', A, B) # A * B\n",
    "np.einsum('i,i', A, B)    # np.inner(A, B)\n",
    "np.einsum('i,j', A, B)    # np.outer(A, B)"
   ]
  },
  {
   "cell_type": "markdown",
   "metadata": {},
   "source": [
    "---\n",
    "## Did you survive?\n",
    "## No words, you're just the best ...\n",
    "## Rest, bro, you deserve it!"
   ]
  },
  {
   "cell_type": "markdown",
   "metadata": {},
   "source": [
    "---"
   ]
  }
 ],
 "metadata": {
  "kernelspec": {
   "display_name": "Python 3",
   "language": "python",
   "name": "python3"
  },
  "language_info": {
   "codemirror_mode": {
    "name": "ipython",
    "version": 3
   },
   "file_extension": ".py",
   "mimetype": "text/x-python",
   "name": "python",
   "nbconvert_exporter": "python",
   "pygments_lexer": "ipython3",
   "version": "3.8.5"
  }
 },
 "nbformat": 4,
 "nbformat_minor": 4
}
