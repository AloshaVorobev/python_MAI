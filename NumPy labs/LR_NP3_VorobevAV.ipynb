{
 "cells": [
  {
   "cell_type": "markdown",
   "metadata": {},
   "source": [
    "---\n",
    "                                            Московский Авиационный Институт  \n",
    "                                      (Национальный Исследовательский Университет)  \n",
    "        \n",
    "                \n",
    "                \n",
    "    Кафедра 806 «Вычислительная математика и программирование»  \n",
    "    Институт: «Информационные технологии и прикладная математика»  \n",
    "    Дисциплина: «Разработка ПО для высокопроизводительных систем»        \n",
    "                \n",
    "\n",
    "\n",
    "                                            -------------------------------\n",
    "                                            Лабораторная работа по NumPy №3  \n",
    "                                            -------------------------------    \n",
    "                                            \n",
    "                                            \n",
    "                                            \n",
    "                                                                                Группа: М8О-103М-20  \n",
    "                                                                                Студент: Воробьев Алексей Вячеславович  \n",
    "                                                                                Преподаватель: Поповкин Александр Викторович  \n",
    "                                                                                \n",
    "                                                                                \n",
    "                                                                                \n",
    "                                                     Москва, 2020  \n",
    "                                                         \n",
    "---"
   ]
  },
  {
   "cell_type": "markdown",
   "metadata": {},
   "source": [
    "#### 0. Подключаем необходимые библиотеки:"
   ]
  },
  {
   "cell_type": "code",
   "execution_count": 5,
   "metadata": {},
   "outputs": [],
   "source": [
    "import numpy as np"
   ]
  },
  {
   "cell_type": "markdown",
   "metadata": {},
   "source": [
    "---\n",
    "#### 1. Дан вектор [1, 2, 3, 4, 5], построить новый вектор с тремя нулями между каждым значением:"
   ]
  },
  {
   "cell_type": "code",
   "execution_count": 6,
   "metadata": {},
   "outputs": [
    {
     "name": "stdout",
     "output_type": "stream",
     "text": [
      "Start vector A: [1 2 3 4 5]\n",
      "----------\n",
      "Number of zeros N = 1\n",
      "----------\n",
      "Start vector B:\n",
      "[0. 0. 0. 0. 0. 0. 0. 0. 0.]\n",
      "----------\n",
      "End vector B:\n",
      "[1. 0. 2. 0. 3. 0. 4. 0. 5.]\n"
     ]
    }
   ],
   "source": [
    "a = np.array([1,2,3,4,5])\n",
    "print(f'Start vector A: {a}\\n----------')\n",
    "\n",
    "n = 1\n",
    "print(f'Number of zeros N = {n}\\n----------')\n",
    "\n",
    "b = np.zeros(len(a) + (len(a)-1)*n)\n",
    "print(f'Start vector B:\\n{b}\\n----------')\n",
    "\n",
    "b[::n+1] = a\n",
    "print(f'End vector B:\\n{b}')"
   ]
  },
  {
   "cell_type": "markdown",
   "metadata": {},
   "source": [
    "---\n",
    "#### 2. Поменять 2 строки в матрице:"
   ]
  },
  {
   "cell_type": "code",
   "execution_count": 7,
   "metadata": {},
   "outputs": [
    {
     "name": "stdout",
     "output_type": "stream",
     "text": [
      "Start matrix A:\n",
      "[[18 12 23  3 10]\n",
      " [ 1 15 21 20 16]\n",
      " [23 24 23 13 11]\n",
      " [ 6  7 22 17  4]\n",
      " [16 19 11  9  1]]\n",
      "----------\n",
      "One way:\n",
      "End matix A (1st and 2nd rows are changed):\n",
      "[[ 1 15 21 20 16]\n",
      " [18 12 23  3 10]\n",
      " [23 24 23 13 11]\n",
      " [ 6  7 22 17  4]\n",
      " [16 19 11  9  1]]\n",
      "----------\n",
      "Another way:\n",
      "End matix A (1st and 2nd rows are changed):\n",
      "[[ 1 15 21 20 16]\n",
      " [18 12 23  3 10]\n",
      " [23 24 23 13 11]\n",
      " [ 6  7 22 17  4]\n",
      " [16 19 11  9  1]]\n"
     ]
    }
   ],
   "source": [
    "a = np.random.randint(1, 25, (5, 5))\n",
    "print(f'Start matrix A:\\n{a}\\n----------')\n",
    "\n",
    "print('One way:')\n",
    "a[:2:] = a[1::-1]\n",
    "print(f'End matix A (1st and 2nd rows are changed):\\n{a}\\n----------')\n",
    "\n",
    "print('Another way:')\n",
    "a[:2:] = a[1::-1]\n",
    "a[[0, 1]] = a[[1, 0]]\n",
    "print(f'End matix A (1st and 2nd rows are changed):\\n{a}')"
   ]
  },
  {
   "cell_type": "markdown",
   "metadata": {},
   "source": [
    "---\n",
    "#### 3. Рассмотрим набор из 10 троек, описывающих 10 треугольников (с общими вершинами), найти множество уникальных отрезков, составляющих все треугольники:"
   ]
  },
  {
   "cell_type": "code",
   "execution_count": 8,
   "metadata": {},
   "outputs": [
    {
     "name": "stdout",
     "output_type": "stream",
     "text": [
      "Start set of triplets A:\n",
      "[[87 90 82]\n",
      " [76 36 71]\n",
      " [79  5 12]\n",
      " ...\n",
      " [60 94 67]\n",
      " [97 63 29]\n",
      " [71 64 29]]\n",
      "----------\n",
      "Repeat columns of A (B):\n",
      "[[87 87 90 90 82 82]\n",
      " [76 76 36 36 71 71]\n",
      " [79 79  5  5 12 12]\n",
      " ...\n",
      " [60 60 94 94 67 67]\n",
      " [97 97 63 63 29 29]\n",
      " [71 71 64 64 29 29]]\n",
      "----------\n",
      "Roll columns of B (C):\n",
      "[[87 90 90 82 82 87]\n",
      " [76 36 36 71 71 76]\n",
      " [79  5  5 12 12 79]\n",
      " ...\n",
      " [60 94 94 67 67 60]\n",
      " [97 63 63 29 29 97]\n",
      " [71 64 64 29 29 71]]\n",
      "----------\n",
      "Reshape of C (D):\n",
      "[[87 90]\n",
      " [90 82]\n",
      " [82 87]\n",
      " ...\n",
      " [71 64]\n",
      " [64 29]\n",
      " [29 71]]\n",
      "----------\n",
      "Sort of D (F):\n",
      "[[87 90]\n",
      " [82 90]\n",
      " [82 87]\n",
      " ...\n",
      " [64 71]\n",
      " [29 64]\n",
      " [29 71]]\n",
      "----------\n",
      "View of F (G):\n",
      "[[(87, 90)]\n",
      " [(82, 90)]\n",
      " [(82, 87)]\n",
      " ...\n",
      " [(64, 71)]\n",
      " [(29, 64)]\n",
      " [(29, 71)]]\n",
      "----------\n",
      "Unique of G (H):\n",
      "[( 2, 84) ( 2, 89) ( 5, 12) ( 5, 79) ( 6,  9)\n",
      " ( 6, 47) ( 9, 47) (12, 79) (20, 61) (20, 83)\n",
      " (29, 63) (29, 64) (29, 71) (29, 97) (36, 71)\n",
      " (36, 76) (60, 63) (60, 67) (60, 83) (60, 94)\n",
      " (61, 83) (63, 83) (63, 97) (64, 71) (67, 94)\n",
      " (71, 76) (82, 87) (82, 90) (84, 89) (87, 90)]\n"
     ]
    }
   ],
   "source": [
    "np.set_printoptions(linewidth=75, threshold=0)\n",
    "\n",
    "a = np.random.randint(0, 100, (10, 3))\n",
    "print(f'Start set of triplets A:\\n{a}\\n----------')\n",
    "\n",
    "b = np.repeat(a, 2, axis=1)\n",
    "print(f'Repeat columns of A (B):\\n{b}\\n----------')\n",
    "\n",
    "c = np.roll(b, -1, axis=1)\n",
    "print(f'Roll columns of B (C):\\n{c}\\n----------')\n",
    "\n",
    "d = np.reshape(c, (len(c)*3, 2))\n",
    "print(f'Reshape of C (D):\\n{d}\\n----------')\n",
    "\n",
    "f = np.sort(d, axis=1)\n",
    "print(f'Sort of D (F):\\n{f}\\n----------')\n",
    "\n",
    "g = f.view(dtype=[('p0', f.dtype), ('p1', f.dtype)])\n",
    "print(f'View of F (G):\\n{g}\\n----------')\n",
    "\n",
    "np.set_printoptions(linewidth=50, threshold=1000)\n",
    "h = np.unique(g)\n",
    "print(f'Unique of G (H):\\n{h}')"
   ]
  },
  {
   "cell_type": "markdown",
   "metadata": {},
   "source": [
    "---\n",
    "#### 4. Дан массив C; создать массив A, что np.bincount(A) == C:"
   ]
  },
  {
   "cell_type": "code",
   "execution_count": 9,
   "metadata": {},
   "outputs": [
    {
     "name": "stdout",
     "output_type": "stream",
     "text": [
      "Start array C:\n",
      "[0 2 1 1 2 0 1]\n",
      "----------\n",
      "Intermediate array B:\n",
      "[0 1 2 3 4 5 6]\n",
      "----------\n",
      "End array A:\n",
      "[1 1 2 3 4 4 6]\n"
     ]
    }
   ],
   "source": [
    "c = np.bincount([1,1,2,3,4,4,6])\n",
    "print(f'Start array C:\\n{c}\\n----------')\n",
    "\n",
    "b = np.arange(len(c))\n",
    "print(f'Intermediate array B:\\n{b}\\n----------')\n",
    "\n",
    "a = np.repeat(b, c)\n",
    "print(f'End array A:\\n{a}')"
   ]
  },
  {
   "cell_type": "markdown",
   "metadata": {},
   "source": [
    "---\n",
    "#### 5. Посчитать среднее, используя плавающее окно:"
   ]
  },
  {
   "cell_type": "code",
   "execution_count": 44,
   "metadata": {},
   "outputs": [
    {
     "name": "stdout",
     "output_type": "stream",
     "text": [
      "Number of elements in B = 10\n",
      "----------\n",
      "Number of expelled elements B = 5\n",
      "----------\n",
      "Start array B:\n",
      "[0 1 2 3 4 5 6 7 8 9]\n",
      "----------\n",
      "* Start \"moving average\" function *\n",
      "----------\n",
      "Cum Sum of A:\n",
      "[ 0.  1.  3.  6. 10. 15. 21. 28. 36. 45.]\n",
      "----------\n",
      "Start ret[5:]:\n",
      "[15. 21. 28. 36. 45.]\n",
      "----------\n",
      "ret[:-5]:\n",
      "[ 0.  1.  3.  6. 10.]\n",
      "----------\n",
      "End ret[5:] = ret[5:] - ret[:-5]:\n",
      "[15. 20. 25. 30. 35.]\n",
      "----------\n",
      "ret:\n",
      "[ 0.  1.  3.  6. 10. 15. 20. 25. 30. 35.]\n",
      "----------\n",
      "Moving average of an B:\n",
      "[2. 3. 4. 5. 6. 7.]\n"
     ]
    }
   ],
   "source": [
    "np.set_printoptions(linewidth=100, precision=3, threshold=10)\n",
    "def moving_average(a, n):\n",
    "    print('* Start \"moving average\" function *\\n----------')\n",
    "    ret = np.cumsum(a, dtype=float)\n",
    "    print(f'Cum Sum of A:\\n{ret}\\n----------')\n",
    "    \n",
    "    print(f'Start ret[{n}:]:\\n{ret[n:]}\\n----------')\n",
    "    print(f'ret[:-{n}]:\\n{ret[:-n]}\\n----------')\n",
    "    ret[n:] = ret[n:] - ret[:-n]\n",
    "    \n",
    "    print(f'End ret[{n}:] = ret[{n}:] - ret[:-{n}]:\\n{ret[n:]}\\n----------')\n",
    "    print(f'ret:\\n{ret}\\n----------')\n",
    "    return ret[n - 1:] / n\n",
    "\n",
    "n1 = 10\n",
    "print(f'Number of elements in B = {n1}\\n----------')\n",
    "\n",
    "n2 = 5\n",
    "print(f'Number of expelled elements B = {n2}\\n----------')\n",
    "\n",
    "b = np.arange(0, n1)\n",
    "print(f'Start array B:\\n{b}\\n----------')\n",
    "\n",
    "c = moving_average(b, n2)\n",
    "print(f'Moving average of an B:\\n{c}')"
   ]
  },
  {
   "cell_type": "code",
   "execution_count": 43,
   "metadata": {},
   "outputs": [
    {
     "name": "stdout",
     "output_type": "stream",
     "text": [
      "Number of elements in B = 10\n",
      "----------\n",
      "Number of expelled elements B = 3\n",
      "----------\n",
      "Start array B:\n",
      "[0 1 2 3 4 5 6 7 8 9]\n",
      "----------\n",
      "Moving average of an B:\n",
      "[1. 2. 3. 4. 5. 6. 7. 8.]\n"
     ]
    }
   ],
   "source": [
    "def moving_average(a, n):\n",
    "    \n",
    "    ret = np.cumsum(a, dtype=float)\n",
    "    \n",
    "    ret[n:] = ret[n:] - ret[:-n]\n",
    "    \n",
    "    return ret[n - 1:] / n\n",
    "\n",
    "n1 = 10\n",
    "print(f'Number of elements in B = {n1}\\n----------')\n",
    "\n",
    "n2 = 3\n",
    "print(f'Number of expelled elements B = {n2}\\n----------')\n",
    "\n",
    "b = np.arange(0, n1)\n",
    "print(f'Start array B:\\n{b}\\n----------')\n",
    "\n",
    "c = moving_average(b, n2)\n",
    "print(f'Moving average of an B:\\n{c}')"
   ]
  },
  {
   "cell_type": "markdown",
   "metadata": {},
   "source": [
    "---\n",
    "#### 6. Дан вектор Z, построить матрицу, первая строка которой (Z[0],Z[1],Z[2]), каждая последующая сдвинута на 1 (последняя (Z[-3],Z[-2],Z[-1])):"
   ]
  },
  {
   "cell_type": "code",
   "execution_count": 11,
   "metadata": {},
   "outputs": [
    {
     "name": "stdout",
     "output_type": "stream",
     "text": [
      "Start vector A: [0 1 2 3 4 5 6 7 8 9]\n",
      "----------\n",
      "Start shape = (10,)\n",
      "New shape = (8, 3)\n",
      "Strides of A = (4, 4)\n",
      "----------\n",
      "End matrix Z:\n",
      "[[0 1 2]\n",
      " [1 2 3]\n",
      " [2 3 4]\n",
      " [3 4 5]\n",
      " [4 5 6]\n",
      " [5 6 7]\n",
      " [6 7 8]\n",
      " [7 8 9]]\n"
     ]
    }
   ],
   "source": [
    "np.set_printoptions(linewidth=100, precision=3, threshold=10000)\n",
    "from numpy.lib import stride_tricks\n",
    "\n",
    "def rolling(a, window):\n",
    "    shape = (a.size - window + 1, window)\n",
    "    print(f'New shape = {shape}')\n",
    "    \n",
    "    strides = (a.itemsize, a.itemsize)\n",
    "    print(f'Strides of A = {strides}')\n",
    "    \n",
    "    return stride_tricks.as_strided(a, shape=shape, strides=strides)\n",
    "\n",
    "n1 = 10\n",
    "n2 = 3\n",
    "\n",
    "b = np.arange(n1)\n",
    "print(f'Start vector A: {b}\\n----------')\n",
    "print(f'Start shape = {b.shape}')\n",
    "\n",
    "z = rolling(b, n2)\n",
    "print(f'----------\\nEnd matrix Z:\\n{z}')"
   ]
  },
  {
   "cell_type": "markdown",
   "metadata": {},
   "source": [
    "---\n",
    "#### 7. Инвертировать булево значение, или поменять знак у числового массива без создания нового:"
   ]
  },
  {
   "cell_type": "code",
   "execution_count": 12,
   "metadata": {},
   "outputs": [
    {
     "name": "stdout",
     "output_type": "stream",
     "text": [
      "Start array A:\n",
      "[0 0 0 1 1 1 1 0 1 0 0 1 1 1 0 1 1 0 0 0]\n",
      "----------\n",
      "Not logical of A:\n",
      "[1 1 1 0 0 0 0 1 0 1 1 0 0 0 1 0 0 1 1 1]\n",
      "==================================================\n",
      "Start Z:\n",
      "[ 0.682  0.259  0.492  0.677 -0.705  0.915 -0.89   0.224 -0.49  -0.952  0.534\n",
      "  0.957 -0.256  0.042 -0.329 -0.512  0.914 -0.182 -0.637  0.799]\n",
      "----------\n",
      "Negative of Z:\n",
      "[-0.682 -0.259 -0.492 -0.677  0.705 -0.915  0.89  -0.224  0.49   0.952 -0.534\n",
      " -0.957  0.256 -0.042  0.329  0.512 -0.914  0.182  0.637 -0.799]\n"
     ]
    }
   ],
   "source": [
    "np.set_printoptions(linewidth=80, precision=3, threshold=1000)\n",
    "\n",
    "a = np.random.randint(0, 2, 20)\n",
    "print(f'Start array A:\\n{a}\\n----------')\n",
    "\n",
    "print(f'Not logical of A:\\n{np.logical_not(a, out=a)}')\n",
    "print('==================================================')\n",
    "\n",
    "z = np.random.uniform(-1.0, 1.0, 20)\n",
    "print(f'Start Z:\\n{z}\\n----------')\n",
    "\n",
    "print(f'Negative of Z:\\n{np.negative(z, out=z)}')"
   ]
  },
  {
   "cell_type": "markdown",
   "metadata": {},
   "source": [
    "---\n",
    "#### 8. Посчитать ранг матрицы:"
   ]
  },
  {
   "cell_type": "code",
   "execution_count": 13,
   "metadata": {},
   "outputs": [
    {
     "name": "stdout",
     "output_type": "stream",
     "text": [
      "Matrix A:\n",
      "[[0.306 0.613 0.52  0.222 0.762 0.213 0.568 0.39  0.992 0.411]\n",
      " [0.828 0.482 0.69  0.494 0.598 0.057 0.887 0.72  0.658 0.241]\n",
      " [0.904 0.449 0.798 0.051 0.601 0.872 0.539 0.36  0.978 0.519]\n",
      " [0.508 0.958 0.188 0.07  0.572 0.739 0.067 0.21  0.379 0.97 ]\n",
      " [0.53  0.586 0.629 0.682 0.388 0.853 0.459 0.798 0.164 0.65 ]\n",
      " [0.572 0.005 0.986 0.875 0.086 0.649 0.156 0.659 0.513 0.675]\n",
      " [0.643 0.061 0.971 0.12  0.104 0.792 0.909 0.257 0.479 0.89 ]\n",
      " [0.229 0.069 0.609 0.109 0.467 0.441 0.615 0.63  0.941 0.301]\n",
      " [0.585 0.125 0.372 0.029 0.726 0.627 0.613 0.075 0.707 0.637]\n",
      " [0.968 0.438 0.833 0.977 0.749 0.586 0.524 0.549 0.92  0.186]]\n",
      "----------\n",
      "Rank of matrix A = 10\n"
     ]
    }
   ],
   "source": [
    "a = np.random.uniform(0, 1, (10,10))\n",
    "print(f'Matrix A:\\n{a}\\n----------')\n",
    "\n",
    "rank = np.linalg.matrix_rank(a)\n",
    "print(f'Rank of matrix A = {rank}')"
   ]
  },
  {
   "cell_type": "markdown",
   "metadata": {},
   "source": [
    "---\n",
    "#### 9. Найти наиболее частое значение в массиве:"
   ]
  },
  {
   "cell_type": "code",
   "execution_count": 33,
   "metadata": {},
   "outputs": [
    {
     "name": "stdout",
     "output_type": "stream",
     "text": [
      "Start array A:\n",
      "[ 6  7  3  6 10  5  2  2  9  8]\n",
      "----------\n",
      "Bincount of A:\n",
      "[0 0 2 1 0 1 2 1 1 1 1]\n",
      "----------\n",
      "The most common value in A = 2\n"
     ]
    }
   ],
   "source": [
    "a = np.random.randint(1, 11, 10)\n",
    "print(f'Start array A:\\n{a}\\n----------')\n",
    "\n",
    "b = np.bincount(a)\n",
    "print(f'Bincount of A:\\n{b}\\n----------')\n",
    "\n",
    "c = b.argmax()\n",
    "print(f'The most common value in A = {c}')"
   ]
  },
  {
   "cell_type": "markdown",
   "metadata": {},
   "source": [
    "---\n",
    "#### 10. Извлечь все смежные 3x3 блоки из 10x10 матрицы:"
   ]
  },
  {
   "cell_type": "code",
   "execution_count": 15,
   "metadata": {},
   "outputs": [
    {
     "name": "stdout",
     "output_type": "stream",
     "text": [
      "Start matrix A:\n",
      "[[5 1 2 1]\n",
      " [9 8 8 3]\n",
      " [3 4 7 7]\n",
      " [1 7 2 1]]\n",
      "----------\n",
      "Size of new blocks N = 3x3\n",
      "Number of grid of cortege new A ----- i = 2\n",
      "Number of cortege of blocks new A --- j = 2\n",
      "----------\n",
      "New shape = (2, 2, 3, 3)\n",
      "----------\n",
      "Strides = (16, 4, 16, 4)\n",
      "----------\n",
      "Final Extracted Blocks:\n",
      "[[[[5 1 2]\n",
      "   [9 8 8]\n",
      "   [3 4 7]]\n",
      "\n",
      "  [[1 2 1]\n",
      "   [8 8 3]\n",
      "   [4 7 7]]]\n",
      "\n",
      "\n",
      " [[[9 8 8]\n",
      "   [3 4 7]\n",
      "   [1 7 2]]\n",
      "\n",
      "  [[8 8 3]\n",
      "   [4 7 7]\n",
      "   [7 2 1]]]]\n"
     ]
    }
   ],
   "source": [
    "np.set_printoptions(linewidth=80, precision=3, threshold=1000)\n",
    "\n",
    "a = np.random.randint(1, 10, (4, 4))\n",
    "print(f'Start matrix A:\\n{a}\\n----------')\n",
    "\n",
    "n = 3\n",
    "print(f'Size of new blocks N = {n}x{n}')\n",
    "i = 1 + (a.shape[0] - n)\n",
    "j = 1 + (a.shape[1] - n)\n",
    "print(f'Number of grid of cortege new A ----- i = {i}')\n",
    "print(f'Number of cortege of blocks new A --- j = {j}\\n----------')\n",
    "\n",
    "sh = (i, j, n, n)\n",
    "print(f'New shape = {sh}\\n----------')\n",
    "\n",
    "st = a.strides + a.strides\n",
    "print(f'Strides = {st}\\n----------')\n",
    "\n",
    "c = stride_tricks.as_strided(a, shape=sh, strides=st)\n",
    "print(f'Final Extracted Blocks:\\n{c}')"
   ]
  },
  {
   "cell_type": "markdown",
   "metadata": {},
   "source": [
    "---\n",
    "#### 11. Рассмотрим множество матриц (n, n) и множество из P векторов (n,1). Посчитать сумму P произведений матриц (результат имеет размерность (n,1)):"
   ]
  },
  {
   "cell_type": "code",
   "execution_count": 16,
   "metadata": {},
   "outputs": [
    {
     "name": "stdout",
     "output_type": "stream",
     "text": [
      "Set of matrices (4, 4):\n",
      "[[[1. 1. 1. 1.]\n",
      "  [1. 1. 1. 1.]\n",
      "  [1. 1. 1. 1.]\n",
      "  [1. 1. 1. 1.]]\n",
      "\n",
      " [[1. 1. 1. 1.]\n",
      "  [1. 1. 1. 1.]\n",
      "  [1. 1. 1. 1.]\n",
      "  [1. 1. 1. 1.]]\n",
      "\n",
      " [[1. 1. 1. 1.]\n",
      "  [1. 1. 1. 1.]\n",
      "  [1. 1. 1. 1.]\n",
      "  [1. 1. 1. 1.]]]\n",
      "----------\n",
      "Set of 3 Vectors:\n",
      "[[[1.]\n",
      "  [1.]\n",
      "  [1.]\n",
      "  [1.]]\n",
      "\n",
      " [[1.]\n",
      "  [1.]\n",
      "  [1.]\n",
      "  [1.]]\n",
      "\n",
      " [[1.]\n",
      "  [1.]\n",
      "  [1.]\n",
      "  [1.]]]\n",
      "----------\n",
      "Sum of products of matrices and vectors:\n",
      "[[12.]\n",
      " [12.]\n",
      " [12.]\n",
      " [12.]]\n"
     ]
    }
   ],
   "source": [
    "np.set_printoptions(linewidth=80, precision=3, threshold=0)\n",
    "\n",
    "p, n = 3, 4\n",
    "\n",
    "m = np.ones((p, n, n))\n",
    "print(f'Set of matrices ({n}, {n}):\\n{m}\\n----------')\n",
    "\n",
    "v = np.ones((p, n, 1))\n",
    "print(f'Set of {p} Vectors:\\n{v}\\n----------')\n",
    "\n",
    "x = np.tensordot(m, v, axes=[[0, 2], [0, 1]])\n",
    "print(f'Sum of products of matrices and vectors:\\n{x}')"
   ]
  },
  {
   "cell_type": "markdown",
   "metadata": {},
   "source": [
    "---\n",
    "12. Дан массив 16x16, посчитать сумму по блокам 4x4:"
   ]
  },
  {
   "cell_type": "code",
   "execution_count": 17,
   "metadata": {},
   "outputs": [
    {
     "data": {
      "text/plain": [
       "array([[16., 16., 16., 16.],\n",
       "       [16., 16., 16., 16.],\n",
       "       [16., 16., 16., 16.],\n",
       "       [16., 16., 16., 16.]])"
      ]
     },
     "execution_count": 17,
     "metadata": {},
     "output_type": "execute_result"
    }
   ],
   "source": [
    "Z = np.ones((16,16))\n",
    "\n",
    "k = 4\n",
    "\n",
    "\n",
    "\n",
    "S = np.add.reduceat(np.add.reduceat(Z, np.arange(0, Z.shape[0], k), axis=0),\n",
    "                                       np.arange(0, Z.shape[1], k), axis=1)\n",
    "S"
   ]
  },
  {
   "cell_type": "markdown",
   "metadata": {},
   "source": [
    "---\n",
    "13. Найти n наибольших значений в массиве:"
   ]
  },
  {
   "cell_type": "code",
   "execution_count": 18,
   "metadata": {},
   "outputs": [
    {
     "name": "stdout",
     "output_type": "stream",
     "text": [
      "[9997 9996 9999 9998 9995]\n"
     ]
    }
   ],
   "source": [
    "Z = np.arange(10000)\n",
    "np.random.shuffle(Z)\n",
    "n = 5\n",
    "\n",
    "print (Z[np.argpartition(-Z,n)[:n]])"
   ]
  },
  {
   "cell_type": "markdown",
   "metadata": {},
   "source": [
    "---\n",
    "14. Построить прямое произведение массивов (все комбинации с каждым элементом):"
   ]
  },
  {
   "cell_type": "code",
   "execution_count": 19,
   "metadata": {},
   "outputs": [
    {
     "name": "stdout",
     "output_type": "stream",
     "text": [
      "[[1 4 6]\n",
      " [1 4 7]\n",
      " [1 5 6]\n",
      " ...\n",
      " [3 4 7]\n",
      " [3 5 6]\n",
      " [3 5 7]]\n"
     ]
    }
   ],
   "source": [
    "def cartesian(arrays):\n",
    "    arrays = [np.asarray(a) for a in arrays]\n",
    "    shape = map(len, arrays)\n",
    "\n",
    "    ix = np.indices(shape, dtype=int)\n",
    "    ix = ix.reshape(len(arrays), -1).T\n",
    "\n",
    "    for n, arr in enumerate(arrays):\n",
    "        ix[:, n] = arrays[n][ix[:, n]]\n",
    "\n",
    "    return ix\n",
    "\n",
    "print(cartesian(([1, 2, 3], [4, 5], [6, 7])))"
   ]
  },
  {
   "cell_type": "markdown",
   "metadata": {},
   "source": [
    "---\n",
    "15. Даны 2 массива A (8x3) и B (2x2). Найти строки в A, которые содержат элементы из каждой строки в B, независимо от порядка элементов в B:"
   ]
  },
  {
   "cell_type": "code",
   "execution_count": 20,
   "metadata": {},
   "outputs": [
    {
     "name": "stdout",
     "output_type": "stream",
     "text": [
      "[0 1 2 5 6 7]\n"
     ]
    }
   ],
   "source": [
    "A = np.random.randint(0,5,(8,3))\n",
    "B = np.random.randint(0,5,(2,2))\n",
    "\n",
    "C = (A[..., np.newaxis, np.newaxis] == B)\n",
    "rows = (C.sum(axis=(1,2,3)) >= B.shape[1]).nonzero()[0]\n",
    "print(rows)"
   ]
  },
  {
   "cell_type": "markdown",
   "metadata": {},
   "source": [
    "---\n",
    "16. Дана 10x3 матрица, найти строки из неравных значений (например [2,2,3]):"
   ]
  },
  {
   "cell_type": "code",
   "execution_count": 21,
   "metadata": {},
   "outputs": [
    {
     "name": "stdout",
     "output_type": "stream",
     "text": [
      "[[1 2 2]\n",
      " [2 0 4]\n",
      " [2 1 0]\n",
      " ...\n",
      " [2 0 1]\n",
      " [3 3 1]\n",
      " [4 3 4]]\n",
      "[[1 2 2]\n",
      " [2 0 4]\n",
      " [2 1 0]\n",
      " ...\n",
      " [2 0 1]\n",
      " [3 3 1]\n",
      " [4 3 4]]\n"
     ]
    }
   ],
   "source": [
    "Z = np.random.randint(0,5,(10,3))\n",
    "E = np.logical_and.reduce(Z[:,1:] == Z[:,:-1], axis=1)\n",
    "U = Z[~E]\n",
    "print(Z)\n",
    "print(U)"
   ]
  },
  {
   "cell_type": "markdown",
   "metadata": {},
   "source": [
    "---\n",
    "17. Преобразовать вектор чисел в матрицу бинарных представлений:"
   ]
  },
  {
   "cell_type": "code",
   "execution_count": 32,
   "metadata": {},
   "outputs": [
    {
     "name": "stdout",
     "output_type": "stream",
     "text": [
      "[[0 0 0 0 0 0 0 0]\n",
      " [0 0 0 0 0 0 0 1]\n",
      " [0 0 0 0 0 0 1 0]\n",
      " [0 0 0 0 0 0 1 1]\n",
      " [0 0 0 0 1 1 1 1]\n",
      " [0 0 0 1 0 0 0 0]\n",
      " [0 0 1 0 0 0 0 0]\n",
      " [0 1 0 0 0 0 0 0]\n",
      " [1 0 0 0 0 0 0 0]]\n"
     ]
    }
   ],
   "source": [
    "np.set_printoptions(linewidth=80, precision=3, threshold=1000)\n",
    "\n",
    "I = np.array([0, 1, 2, 3, 15, 16, 32, 64, 128], dtype=np.uint8)\n",
    "\n",
    "print(np.unpackbits(I[:, np.newaxis], axis=1))"
   ]
  },
  {
   "cell_type": "markdown",
   "metadata": {},
   "source": [
    "---\n",
    "18. Дан двумерный массив. Найти все различные строки:"
   ]
  },
  {
   "cell_type": "code",
   "execution_count": 23,
   "metadata": {},
   "outputs": [
    {
     "name": "stdout",
     "output_type": "stream",
     "text": [
      "[[0 0 0]\n",
      " [0 0 1]\n",
      " [0 1 1]\n",
      " [1 0 1]]\n"
     ]
    }
   ],
   "source": [
    "Z = np.random.randint(0, 2, (6,3))\n",
    "T = np.ascontiguousarray(Z).view(np.dtype((np.void, Z.dtype.itemsize * Z.shape[1])))\n",
    "_, idx = np.unique(T, return_index=True)\n",
    "uZ = Z[idx]\n",
    "print(uZ)"
   ]
  },
  {
   "cell_type": "markdown",
   "metadata": {},
   "source": [
    "---\n",
    "19. Даны векторы A и B, написать einsum эквиваленты функций inner, outer, sum и mul:"
   ]
  },
  {
   "cell_type": "code",
   "execution_count": 29,
   "metadata": {},
   "outputs": [
    {
     "name": "stdout",
     "output_type": "stream",
     "text": [
      "10.0\n",
      "[1. 1. 1. ... 1. 1. 1.]\n",
      "10.0\n",
      "[[1. 1. 1. ... 1. 1. 1.]\n",
      " [1. 1. 1. ... 1. 1. 1.]\n",
      " [1. 1. 1. ... 1. 1. 1.]\n",
      " ...\n",
      " [1. 1. 1. ... 1. 1. 1.]\n",
      " [1. 1. 1. ... 1. 1. 1.]\n",
      " [1. 1. 1. ... 1. 1. 1.]]\n"
     ]
    }
   ],
   "source": [
    "# Make sure to read: http://ajcr.net/Basic-guide-to-einsum/\n",
    "A = np.ones(10)\n",
    "B = np.ones(10)\n",
    "\n",
    "print(np.einsum('i->', A))       # np.sum(A)\n",
    "print(np.einsum('i,i->i', A, B)) # A * B\n",
    "print(np.einsum('i,i', A, B))    # np.inner(A, B)\n",
    "print(np.einsum('i,j', A, B))    # np.outer(A, B)"
   ]
  },
  {
   "cell_type": "markdown",
   "metadata": {},
   "source": [
    "---\n",
    "## Did you survive?\n",
    "## No words, you're just the best ...\n",
    "## Rest, bro, you deserve it!"
   ]
  },
  {
   "cell_type": "markdown",
   "metadata": {},
   "source": [
    "---"
   ]
  }
 ],
 "metadata": {
  "kernelspec": {
   "display_name": "Python 3",
   "language": "python",
   "name": "python3"
  },
  "language_info": {
   "codemirror_mode": {
    "name": "ipython",
    "version": 3
   },
   "file_extension": ".py",
   "mimetype": "text/x-python",
   "name": "python",
   "nbconvert_exporter": "python",
   "pygments_lexer": "ipython3",
   "version": "3.8.5"
  }
 },
 "nbformat": 4,
 "nbformat_minor": 4
}
