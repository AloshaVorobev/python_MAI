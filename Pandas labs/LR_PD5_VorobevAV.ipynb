{
 "cells": [
  {
   "cell_type": "markdown",
   "metadata": {},
   "source": [
    "---\n",
    "                                            Московский Авиационный Институт  \n",
    "                                      (Национальный Исследовательский Университет)  \n",
    "        \n",
    "                \n",
    "                \n",
    "    Кафедра 806 «Вычислительная математика и программирование»  \n",
    "    Институт: «Информационные технологии и прикладная математика»  \n",
    "    Дисциплина: «Разработка ПО для высокопроизводительных систем»        \n",
    "                \n",
    "\n",
    "\n",
    "                                            --------------------------------\n",
    "                                            Лабораторная работа по Pandas №5  \n",
    "                                            --------------------------------    \n",
    "                                            \n",
    "                                            \n",
    "                                            \n",
    "                                                                                Группа: М8О-103М-20  \n",
    "                                                                                Студент: Воробьев Алексей Вячеславович  \n",
    "                                                                                Преподаватель: Поповкин Александр Викторович  \n",
    "                                                                                \n",
    "                                                                                \n",
    "                                                                                \n",
    "                                                     Москва, 2020  \n",
    "                                                         \n",
    "---"
   ]
  },
  {
   "cell_type": "markdown",
   "metadata": {},
   "source": [
    "#### 0. Подключаем необходимые библиотеки:"
   ]
  },
  {
   "cell_type": "code",
   "execution_count": 249,
   "metadata": {},
   "outputs": [],
   "source": [
    "import numpy as np\n",
    "import pandas as pd\n",
    "import sys"
   ]
  },
  {
   "cell_type": "markdown",
   "metadata": {},
   "source": [
    "---\n",
    "#### 1. Получить от объекта Series показатели описательной статистики:"
   ]
  },
  {
   "cell_type": "code",
   "execution_count": 250,
   "metadata": {},
   "outputs": [
    {
     "name": "stdout",
     "output_type": "stream",
     "text": [
      "count    25.000000\n",
      "mean      9.182460\n",
      "std       4.782765\n",
      "min       0.433599\n",
      "25%       7.188562\n",
      "50%       8.829315\n",
      "75%      12.483571\n",
      "max      17.896064\n",
      "dtype: float64\n"
     ]
    }
   ],
   "source": [
    "state = np.random.RandomState(42)\n",
    "s = pd.Series(state.normal(10, 5, 25))\n",
    "#print(s)\n",
    "\n",
    "pkz = s.describe()\n",
    "print(pkz)"
   ]
  },
  {
   "cell_type": "markdown",
   "metadata": {},
   "source": [
    "---\n",
    "#### 2. Узнать частоту уникальных элементов объекта Series (гистограмма):"
   ]
  },
  {
   "cell_type": "code",
   "execution_count": 251,
   "metadata": {},
   "outputs": [
    {
     "name": "stdout",
     "output_type": "stream",
     "text": [
      "Start object \"abcdefghik\"\n",
      "len of data = 10\n",
      "---------\n",
      "Start array of indices:\n",
      "[1 8 3 3 6 3 0 1 8 3 9 7 1 4 6 8 6 6 3 4 8 3 5 8 6 1 4 4 6 5]\n",
      "len of array = 30\n",
      "---------\n",
      "Intersection/union obj and indicates:\n",
      "['b' 'i' 'd' 'd' 'g' 'd' 'a' 'b' 'i' 'd' 'k' 'h' 'b' 'e' 'g' 'i' 'g' 'g' 'd' 'e' 'i' 'd' 'f' 'i' 'g' 'b' 'e' 'e' 'g' 'f']\n",
      "----------\n",
      "Unique values in descending order:\n",
      "d    6\n",
      "g    6\n",
      "i    5\n",
      "b    4\n",
      "e    4\n",
      "f    2\n",
      "h    1\n",
      "a    1\n",
      "k    1\n",
      "dtype: int64\n"
     ]
    }
   ],
   "source": [
    "np.set_printoptions(linewidth=750)\n",
    "data = 'abcdefghik'\n",
    "print(f'Start object \"{data}\"\\nlen of data = {len(data)}\\n---------')\n",
    "len_series = 30\n",
    "\n",
    "a = np.random.randint(len(data), size=len_series)\n",
    "print(f'Start array of indices:\\n{a}\\nlen of array = {len_series}\\n---------')\n",
    "\n",
    "b = np.take(list(data), a)\n",
    "print(f'Intersection/union obj and indicates:\\n{b}\\n----------')\n",
    "\n",
    "s = pd.Series(b)\n",
    "ans = s.value_counts()\n",
    "print(f'Unique values in descending order:\\n{ans}')"
   ]
  },
  {
   "cell_type": "markdown",
   "metadata": {},
   "source": [
    "---\n",
    "#### 3. Заменить все элементы объекта Series на \"Other\", кроме двух наиболее часто встречающихся:"
   ]
  },
  {
   "cell_type": "code",
   "execution_count": 252,
   "metadata": {},
   "outputs": [
    {
     "name": "stdout",
     "output_type": "stream",
     "text": [
      "Start random array A:\n",
      "[7 4 8 5 7 3 7 8 5 4 8 8 3 6 5]\n",
      "----------\n",
      "The most common values:\n",
      "8    4\n",
      "7    3\n",
      "5    3\n",
      "4    2\n",
      "3    2\n",
      "6    1\n",
      "dtype: int64\n",
      "----------\n",
      "Finally with replacement:\n",
      "0         7\n",
      "1     Other\n",
      "2         8\n",
      "3     Other\n",
      "4         7\n",
      "5     Other\n",
      "6         7\n",
      "7         8\n",
      "8     Other\n",
      "9     Other\n",
      "10        8\n",
      "11        8\n",
      "12    Other\n",
      "13    Other\n",
      "14    Other\n",
      "dtype: object\n"
     ]
    }
   ],
   "source": [
    "state = np.random.RandomState(42)\n",
    "\n",
    "a = state.randint(low=1, high=10, size=[15])\n",
    "print(f'Start random array A:\\n{a}\\n----------')\n",
    "\n",
    "s = pd.Series(a)\n",
    "b = s.value_counts()\n",
    "print(f'The most common values:\\n{b}\\n----------')\n",
    "\n",
    "c = b.index[:2]\n",
    "#print(f'Two the most common values:\\n{c}\\n----------')\n",
    "\n",
    "s[~s.isin(c)] = 'Other'\n",
    "print(f'Finally with replacement:\\n{s}')"
   ]
  },
  {
   "cell_type": "markdown",
   "metadata": {},
   "source": [
    "---\n",
    "#### 4. Создать объект Series, в индексах дата каждый день 2019 года, в значениях случайное значение:"
   ]
  },
  {
   "cell_type": "code",
   "execution_count": 253,
   "metadata": {},
   "outputs": [
    {
     "name": "stdout",
     "output_type": "stream",
     "text": [
      "Start array of Data:\n",
      "DatetimeIndex(['2020-01-01', '2020-01-02', '2020-01-03', '2020-01-06',\n",
      "               '2020-01-07', '2020-01-08', '2020-01-09', '2020-01-10',\n",
      "               '2020-01-13', '2020-01-14',\n",
      "               ...\n",
      "               '2020-12-18', '2020-12-21', '2020-12-22', '2020-12-23',\n",
      "               '2020-12-24', '2020-12-25', '2020-12-28', '2020-12-29',\n",
      "               '2020-12-30', '2020-12-31'],\n",
      "              dtype='datetime64[ns]', length=262, freq='B')\n",
      "----------\n",
      "Finally Series:\n",
      "2020-01-01    58\n",
      "2020-01-02    54\n",
      "2020-01-03    22\n",
      "2020-01-06    91\n",
      "2020-01-07    22\n",
      "              ..\n",
      "2020-12-25    21\n",
      "2020-12-28    85\n",
      "2020-12-29    97\n",
      "2020-12-30    71\n",
      "2020-12-31    62\n",
      "Freq: B, Length: 262, dtype: int32\n"
     ]
    }
   ],
   "source": [
    "dti = pd.date_range(start='2020-01-01', end='2020-12-31', freq='B')\n",
    "print(f'Start array of Data:\\n{dti}\\n----------')\n",
    "\n",
    "a = np.random.randint(0, 100, len(dti))\n",
    "s = pd.Series(a, index=dti)\n",
    "print(f'Finally Series:\\n{s}')"
   ]
  },
  {
   "cell_type": "markdown",
   "metadata": {},
   "source": [
    "---\n",
    "    4.1. Найти сумму всех вторников:"
   ]
  },
  {
   "cell_type": "code",
   "execution_count": 254,
   "metadata": {},
   "outputs": [
    {
     "name": "stdout",
     "output_type": "stream",
     "text": [
      "Сумма всех \"вторников\" =  3107\n"
     ]
    }
   ],
   "source": [
    "b = s[s.index.weekday == 2]\n",
    "ans1 = b.sum()\n",
    "print('Сумма всех \"вторников\" = ', ans1)"
   ]
  },
  {
   "cell_type": "markdown",
   "metadata": {},
   "source": [
    "---\n",
    "    4.2. Для каждого месяца найти среднее значение:"
   ]
  },
  {
   "cell_type": "code",
   "execution_count": 255,
   "metadata": {},
   "outputs": [
    {
     "name": "stdout",
     "output_type": "stream",
     "text": [
      "Средние значения по месяцам:\n",
      " 2020-01-31    53.652174\n",
      "2020-02-29    54.250000\n",
      "2020-03-31    46.636364\n",
      "2020-04-30    53.818182\n",
      "2020-05-31    52.714286\n",
      "2020-06-30    47.590909\n",
      "2020-07-31    51.391304\n",
      "2020-08-31    49.714286\n",
      "2020-09-30    62.181818\n",
      "2020-10-31    55.545455\n",
      "2020-11-30    54.190476\n",
      "2020-12-31    57.391304\n",
      "Freq: M, dtype: float64\n"
     ]
    }
   ],
   "source": [
    "c = s.resample('M')\n",
    "ans2 = c.mean()\n",
    "print('Средние значения по месяцам:\\n', ans2)"
   ]
  },
  {
   "cell_type": "markdown",
   "metadata": {},
   "source": [
    "---\n",
    "#### 5. Преобразовать объект Series в DataFrame заданной формы (shape):"
   ]
  },
  {
   "cell_type": "code",
   "execution_count": 256,
   "metadata": {},
   "outputs": [
    {
     "name": "stdout",
     "output_type": "stream",
     "text": [
      "     0    1    2    3    4    5    6    7    8    9\n",
      "0  121  139  200  124  183  101  174  116  122  138\n",
      "1  193  153  142  151  129  163  166  117  150  128\n",
      "2  195  105  138  169  127  193  193  145  191  124\n",
      "3  165  196  192  109  104  178  195  195  128  149\n",
      "4  144  137  170  191  123  195  200  152  113  199\n",
      "5  127  162  161  112  117  124  125  146  181  118\n",
      "6  164  174  101  113  158  141  191  159  178  174\n",
      "7  196  164  123  148  173  184  108  162  127  139\n",
      "8  103  119  153  156  183  165  171  152  169  109\n",
      "9  176  199  128  163  155  151  120  132  104  171\n"
     ]
    }
   ],
   "source": [
    "s = pd.Series(np.random.randint(low=101, high=201, size=[100]))\n",
    "\n",
    "r = (10, 10)\n",
    "if r[0] * r[1] != len(s):\n",
    "    sys.exit('Не возможно применить reshape')\n",
    "\n",
    "df = pd.DataFrame(s.values.reshape(r))\n",
    "print(df)"
   ]
  },
  {
   "cell_type": "markdown",
   "metadata": {},
   "source": [
    "---\n",
    "#### 6. Найти индексы объекта Series кратные 3:"
   ]
  },
  {
   "cell_type": "code",
   "execution_count": 257,
   "metadata": {},
   "outputs": [
    {
     "name": "stdout",
     "output_type": "stream",
     "text": [
      "Option 1:\n",
      "Indices that are multiples of 3:\n",
      "[3 6 9]\n",
      "----------\n",
      "Option 2:\n",
      "Series of elements that are multiples of 3:\n",
      "3    19\n",
      "6    12\n",
      "9     2\n",
      "dtype: int32\n"
     ]
    }
   ],
   "source": [
    "s = pd.Series(np.random.randint(low=1, high=22, size=[10]))\n",
    "\n",
    "print('Option 1:')\n",
    "ans1 = np.argwhere((s.index % 3 == 0) & (s.index != 0)).flatten()\n",
    "print(f'Indices that are multiples of 3:\\n{ans1}\\n----------')\n",
    "\n",
    "print('Option 2:')\n",
    "ans2 = s[(s.index % 3 == 0) & (s.index != 0)]\n",
    "print(f'Series of elements that are multiples of 3:\\n{ans2}')"
   ]
  },
  {
   "cell_type": "markdown",
   "metadata": {},
   "source": [
    "---\n",
    "#### 7. Получить данные по индексам объекта Series:"
   ]
  },
  {
   "cell_type": "code",
   "execution_count": 258,
   "metadata": {},
   "outputs": [
    {
     "name": "stdout",
     "output_type": "stream",
     "text": [
      "Option 1:\n",
      "0     a\n",
      "4     e\n",
      "8     i\n",
      "14    o\n",
      "20    u\n",
      "10    k\n",
      "dtype: object\n",
      "----------\n",
      "Option 2:\n",
      "0     a\n",
      "4     e\n",
      "8     i\n",
      "14    o\n",
      "20    u\n",
      "10    k\n",
      "dtype: object\n"
     ]
    }
   ],
   "source": [
    "s = pd.Series(list('abcdefghijklmnopqrstuvwxyz'))\n",
    "p = [0, 4, 8, 14, 20, 10]\n",
    "\n",
    "ans1 = s[p]\n",
    "print(f'Option 1:\\n{ans1}\\n----------')\n",
    " \n",
    "ans2 = s.take(p)\n",
    "print(f'Option 2:\\n{ans2}')"
   ]
  },
  {
   "cell_type": "markdown",
   "metadata": {},
   "source": [
    "---\n",
    "#### 8. Объединить два объекта Series вертикально и горизонтально:"
   ]
  },
  {
   "cell_type": "code",
   "execution_count": 259,
   "metadata": {},
   "outputs": [
    {
     "name": "stdout",
     "output_type": "stream",
     "text": [
      "0    0\n",
      "1    1\n",
      "2    2\n",
      "3    3\n",
      "4    4\n",
      "0    a\n",
      "1    b\n",
      "2    c\n",
      "3    d\n",
      "4    e\n",
      "dtype: object\n",
      "   0  1\n",
      "0  0  a\n",
      "1  1  b\n",
      "2  2  c\n",
      "3  3  d\n",
      "4  4  e\n"
     ]
    }
   ],
   "source": [
    "s1 = pd.Series(range(5))\n",
    "s2 = pd.Series(list('abcde'))\n",
    " \n",
    "ans_vertical = s1.append(s2)\n",
    "ans_horizontal = pd.concat([s1, s2], axis=1)\n",
    " \n",
    "print(ans_vertical)\n",
    "print(ans_horizontal)"
   ]
  },
  {
   "cell_type": "markdown",
   "metadata": {},
   "source": [
    "---\n",
    "#### 9. Получить индексы объекта Series A, данные которых содержатся в объетке Series B:"
   ]
  },
  {
   "cell_type": "code",
   "execution_count": 260,
   "metadata": {},
   "outputs": [
    {
     "name": "stdout",
     "output_type": "stream",
     "text": [
      "Option 1:\n",
      "[3 0 6 2]\n",
      "----------\n",
      "Option 2:\n",
      "[3 0 6 2]\n",
      "----------\n",
      "Option 3:\n",
      "0     True\n",
      "1    False\n",
      "2     True\n",
      "3     True\n",
      "4    False\n",
      "5    False\n",
      "6     True\n",
      "7    False\n",
      "8    False\n",
      "dtype: bool\n",
      "[0 2 3 6]\n"
     ]
    }
   ],
   "source": [
    "s1 = pd.Series([5, 3, 2, 1, 4, 11, 13, 8, 7])\n",
    "s2 = pd.Series([1, 5, 13, 2])\n",
    "\n",
    "a = [np.where(i == s1)[0].tolist()[0] for i in s2]\n",
    "ans1 = np.asarray(a)\n",
    "print(f'Option 1:\\n{ans1}\\n----------')\n",
    "\n",
    "b = [pd.Index(s1).get_loc(i) for i in s2]\n",
    "ans2 = np.asarray(b)\n",
    "print(f'Option 2:\\n{ans2}\\n----------')\n",
    "\n",
    "c = s1.isin(s2)\n",
    "ans3 = np.argwhere(c.values).flatten()\n",
    "print(f'Option 3:\\n{c}\\n{ans3}')"
   ]
  },
  {
   "cell_type": "markdown",
   "metadata": {},
   "source": [
    "---\n",
    "#### 10. Получить объект Series B, котоырй содержит элементы без повторений объекта A:"
   ]
  },
  {
   "cell_type": "code",
   "execution_count": 261,
   "metadata": {},
   "outputs": [
    {
     "name": "stdout",
     "output_type": "stream",
     "text": [
      "0    8\n",
      "1    3\n",
      "2    4\n",
      "3    9\n",
      "4    6\n",
      "5    7\n",
      "6    5\n",
      "7    2\n",
      "dtype: int32\n"
     ]
    }
   ],
   "source": [
    "s = pd.Series(np.random.randint(low=1, high=10, size=[10]))\n",
    "ans = pd.Series(s.unique())\n",
    "print(ans)"
   ]
  },
  {
   "cell_type": "markdown",
   "metadata": {},
   "source": [
    "---\n",
    "#### 11. Преобразовать каждый символ объекта Series в верхний регистр:"
   ]
  },
  {
   "cell_type": "markdown",
   "metadata": {},
   "source": [
    "---\n",
    "    11.1. Создание объекта Series:"
   ]
  },
  {
   "cell_type": "code",
   "execution_count": 262,
   "metadata": {},
   "outputs": [
    {
     "data": {
      "text/plain": [
       "0           life\n",
       "1             is\n",
       "2    interesting\n",
       "dtype: object"
      ]
     },
     "execution_count": 262,
     "metadata": {},
     "output_type": "execute_result"
    }
   ],
   "source": [
    "s = pd.Series(['life', 'is', 'interesting'])\n",
    "s"
   ]
  },
  {
   "cell_type": "markdown",
   "metadata": {},
   "source": [
    "---\n",
    "    11.2. Преобразование данных Series в строку:"
   ]
  },
  {
   "cell_type": "code",
   "execution_count": 263,
   "metadata": {},
   "outputs": [
    {
     "name": "stdout",
     "output_type": "stream",
     "text": [
      "0           Life\n",
      "1             Is\n",
      "2    Interesting\n",
      "dtype: object\n",
      "0           Life\n",
      "1             Is\n",
      "2    Interesting\n",
      "dtype: object\n"
     ]
    }
   ],
   "source": [
    "s = pd.Series(str(i) for i in s)\n",
    "\n",
    "# вариант 1\n",
    "ans1 = s.map(lambda x: x.title())\n",
    "print(ans1)\n",
    "\n",
    "# вариант 1\n",
    "ans2 = pd.Series(i.title() for i in s)\n",
    "print(ans2)"
   ]
  },
  {
   "cell_type": "markdown",
   "metadata": {},
   "source": [
    "---\n",
    "#### 12. Рассчитать количество символов в объекте Series:"
   ]
  },
  {
   "cell_type": "code",
   "execution_count": 286,
   "metadata": {},
   "outputs": [
    {
     "name": "stdout",
     "output_type": "stream",
     "text": [
      "Option 1\n",
      "[4]\n",
      "Option 2\n",
      "[5]\n",
      "Unique:\n",
      "[4]\n"
     ]
    }
   ],
   "source": [
    "s = pd.Series(['three'])\n",
    "\n",
    "# преобразование в строковый тип\n",
    "s = pd.Series(str(i) for i in s)\n",
    "\n",
    "print('Option 1')\n",
    "ans1 = np.asarray(s.map(lambda x: len(set(x))))\n",
    "print(ans1)\n",
    " \n",
    "print('Option 2')\n",
    "ans2 = np.asarray([len(i) for i in s])\n",
    "print(ans2)\n",
    "\n",
    "print(f'Unique:\\n{ans1}')"
   ]
  },
  {
   "cell_type": "markdown",
   "metadata": {},
   "source": [
    "---\n",
    "#### 13. Найти разность между объектом Series и смещением объекта Series на n:"
   ]
  },
  {
   "cell_type": "code",
   "execution_count": 265,
   "metadata": {},
   "outputs": [
    {
     "name": "stdout",
     "output_type": "stream",
     "text": [
      "0    NaN\n",
      "1    4.0\n",
      "2    2.0\n",
      "3    1.0\n",
      "4    4.0\n",
      "5    3.0\n",
      "6    2.0\n",
      "dtype: float64\n"
     ]
    }
   ],
   "source": [
    "n = 1\n",
    " \n",
    "s = pd.Series([1, 5, 7, 8, 12, 15, 17])\n",
    " \n",
    "ans = s.diff(periods=n)\n",
    " \n",
    "print(ans)"
   ]
  },
  {
   "cell_type": "markdown",
   "metadata": {},
   "source": [
    "---\n",
    "#### 14. Преобразовать разные форматы строк объекта Series в дату:"
   ]
  },
  {
   "cell_type": "code",
   "execution_count": 266,
   "metadata": {},
   "outputs": [
    {
     "name": "stdout",
     "output_type": "stream",
     "text": [
      "0   2017-01-01\n",
      "1   2015-02-02\n",
      "2   2019-01-15\n",
      "dtype: datetime64[ns]\n"
     ]
    }
   ],
   "source": [
    "s = pd.Series(['2017/01/01', '2015-02-02', '15 Jan 2019'])\n",
    " \n",
    "# возможно нестабильное решение, необходимо корректно указать строковые значения,\n",
    "# т.к. могут быть перепутаны месяц и день\n",
    "ans = pd.to_datetime(s)\n",
    " \n",
    "print(ans)"
   ]
  },
  {
   "cell_type": "markdown",
   "metadata": {},
   "source": [
    "---\n",
    "#### 15. Поскольку работа с датой часто встречается в работе, то см. еще один пример:"
   ]
  },
  {
   "cell_type": "markdown",
   "metadata": {},
   "source": [
    "---\n",
    "    15.1. Все данные должны иметь одинаковый формат (часто бывает выгрузка из SQL):"
   ]
  },
  {
   "cell_type": "code",
   "execution_count": 267,
   "metadata": {},
   "outputs": [],
   "source": [
    "s = pd.Series(['14.02.2019', '22.01.2019', '01.03.2019'])"
   ]
  },
  {
   "cell_type": "markdown",
   "metadata": {},
   "source": [
    "---\n",
    "    15.2. Преобразовать в дату:"
   ]
  },
  {
   "cell_type": "code",
   "execution_count": 268,
   "metadata": {},
   "outputs": [
    {
     "name": "stdout",
     "output_type": "stream",
     "text": [
      "0   2019-02-14\n",
      "1   2019-01-22\n",
      "2   2019-03-01\n",
      "dtype: datetime64[ns]\n"
     ]
    }
   ],
   "source": [
    "ans = pd.to_datetime(s, format='%d.%m.%Y')\n",
    " \n",
    "print(ans)"
   ]
  },
  {
   "cell_type": "markdown",
   "metadata": {},
   "source": [
    "---\n",
    "#### 16. Получить год, месяц, день, день недели, номер дня в году от объекта Series (string):"
   ]
  },
  {
   "cell_type": "markdown",
   "metadata": {},
   "source": [
    "---\n",
    "    16.1. Распарсить в дату и время:"
   ]
  },
  {
   "cell_type": "code",
   "execution_count": 269,
   "metadata": {},
   "outputs": [],
   "source": [
    "from dateutil.parser import parse\n",
    "\n",
    "s = pd.Series(['01 Jan 2018', '02-02-2011', '20120303', '2013/04/04', '2018-12-31'])\n",
    "\n",
    "s_ts = s.map(lambda x: parse(x, yearfirst=True))"
   ]
  },
  {
   "cell_type": "markdown",
   "metadata": {},
   "source": [
    "---\n",
    "    16.2. Получить года:"
   ]
  },
  {
   "cell_type": "code",
   "execution_count": 270,
   "metadata": {},
   "outputs": [
    {
     "name": "stdout",
     "output_type": "stream",
     "text": [
      "0    2018\n",
      "1    2011\n",
      "2    2012\n",
      "3    2013\n",
      "4    2018\n",
      "dtype: int64\n"
     ]
    }
   ],
   "source": [
    "print(s_ts.dt.year)"
   ]
  },
  {
   "cell_type": "markdown",
   "metadata": {},
   "source": [
    "---\n",
    "    16.3. Получить месяца:"
   ]
  },
  {
   "cell_type": "code",
   "execution_count": 271,
   "metadata": {},
   "outputs": [
    {
     "name": "stdout",
     "output_type": "stream",
     "text": [
      "0     1\n",
      "1     2\n",
      "2     3\n",
      "3     4\n",
      "4    12\n",
      "dtype: int64\n"
     ]
    }
   ],
   "source": [
    "print(s_ts.dt.month)"
   ]
  },
  {
   "cell_type": "markdown",
   "metadata": {},
   "source": [
    "---\n",
    "    16.4. Получить дни:"
   ]
  },
  {
   "cell_type": "code",
   "execution_count": 272,
   "metadata": {},
   "outputs": [
    {
     "name": "stdout",
     "output_type": "stream",
     "text": [
      "0     1\n",
      "1     2\n",
      "2     3\n",
      "3     4\n",
      "4    31\n",
      "dtype: int64\n"
     ]
    }
   ],
   "source": [
    "print(s_ts.dt.day)"
   ]
  },
  {
   "cell_type": "markdown",
   "metadata": {},
   "source": [
    "---\n",
    "    16.5. Получить номер недели:"
   ]
  },
  {
   "cell_type": "code",
   "execution_count": 273,
   "metadata": {},
   "outputs": [
    {
     "name": "stdout",
     "output_type": "stream",
     "text": [
      "0     1\n",
      "1     5\n",
      "2     9\n",
      "3    14\n",
      "4     1\n",
      "dtype: int64\n"
     ]
    },
    {
     "name": "stderr",
     "output_type": "stream",
     "text": [
      "<ipython-input-273-22fcabb6c3db>:1: FutureWarning: Series.dt.weekofyear and Series.dt.week have been deprecated.  Please use Series.dt.isocalendar().week instead.\n",
      "  print(s_ts.dt.weekofyear)\n"
     ]
    }
   ],
   "source": [
    "print(s_ts.dt.weekofyear)"
   ]
  },
  {
   "cell_type": "markdown",
   "metadata": {},
   "source": [
    "---\n",
    "    16.6. Получить номер дня в году:"
   ]
  },
  {
   "cell_type": "code",
   "execution_count": 274,
   "metadata": {},
   "outputs": [
    {
     "name": "stdout",
     "output_type": "stream",
     "text": [
      "0      1\n",
      "1     33\n",
      "2     63\n",
      "3     94\n",
      "4    365\n",
      "dtype: int64\n"
     ]
    }
   ],
   "source": [
    "print(s_ts.dt.dayofyear)"
   ]
  },
  {
   "cell_type": "markdown",
   "metadata": {},
   "source": [
    "---\n",
    "#### 17. Отобрать элементы объекта Series, кторые содержат не менее двух гласных:"
   ]
  },
  {
   "cell_type": "code",
   "execution_count": 275,
   "metadata": {},
   "outputs": [
    {
     "name": "stdout",
     "output_type": "stream",
     "text": [
      "0      Яблоко\n",
      "1      Orange\n",
      "4    Апельсин\n",
      "6    Reliance\n",
      "dtype: object\n"
     ]
    }
   ],
   "source": [
    "from collections import Counter\n",
    " \n",
    "s = pd.Series(['Яблоко', 'Orange', 'Plan', 'Python', 'Апельсин', 'Стол', 'Reliance'])\n",
    "mask = s.map(lambda x: sum([Counter(x.lower()).get(i, 0) for i in list('aeiouаоиеёэыуюя')]) >= 2)\n",
    "ans = s[mask]\n",
    "print(ans)"
   ]
  },
  {
   "cell_type": "markdown",
   "metadata": {},
   "source": [
    "---\n",
    "#### 18. Отобрать e-маилы из объекта Series (можно юзать регулярки):"
   ]
  },
  {
   "cell_type": "code",
   "execution_count": 276,
   "metadata": {},
   "outputs": [
    {
     "name": "stdout",
     "output_type": "stream",
     "text": [
      "1    test@mail.ru\n",
      "dtype: object\n"
     ]
    }
   ],
   "source": [
    "# модуль для работы с регулярными выражениями\n",
    "import re\n",
    " \n",
    "emails = pd.Series(['test text @test.com', 'test@mail.ru', 'test.2ru', 'test@pp'])\n",
    "pattern = '[A-Za-z0-9._%+-]+@[A-Za-z0-9.-]+\\\\.[A-Za-z]{2,4}'\n",
    "mask = emails.map(lambda x: bool(re.match(pattern, x)))\n",
    "ans = emails[mask]\n",
    "print(ans)"
   ]
  },
  {
   "cell_type": "markdown",
   "metadata": {},
   "source": [
    "---\n",
    "#### 19. Получить среднее значение каждого уникального объекта Series s1 через \"маску\" другого объекта Series s2:"
   ]
  },
  {
   "cell_type": "code",
   "execution_count": 277,
   "metadata": {},
   "outputs": [
    {
     "name": "stdout",
     "output_type": "stream",
     "text": [
      "0    horse\n",
      "1     bird\n",
      "2      dog\n",
      "3    horse\n",
      "4      cat\n",
      "5      cat\n",
      "6      cat\n",
      "7      dog\n",
      "8      dog\n",
      "9      cat\n",
      "dtype: object\n",
      "0     1.0\n",
      "1     2.0\n",
      "2     3.0\n",
      "3     4.0\n",
      "4     5.0\n",
      "5     6.0\n",
      "6     7.0\n",
      "7     8.0\n",
      "8     9.0\n",
      "9    10.0\n",
      "dtype: float64\n",
      "bird     2.000000\n",
      "cat      7.000000\n",
      "dog      6.666667\n",
      "horse    2.500000\n",
      "dtype: float64\n"
     ]
    }
   ],
   "source": [
    "n = 10\n",
    "s1 = pd.Series(np.random.choice(['dog', 'cat', 'horse', 'bird'], n))\n",
    "print(s1)\n",
    "\n",
    "s2 = pd.Series(np.linspace(1, n, n))\n",
    "print(s2)\n",
    "\n",
    "ans = s2.groupby(s1).mean()\n",
    "print(ans)"
   ]
  },
  {
   "cell_type": "markdown",
   "metadata": {},
   "source": [
    "---\n",
    "### Поздравляю!\n",
    "### Вы прошли еще одну лабу по Pandas!:)"
   ]
  },
  {
   "cell_type": "markdown",
   "metadata": {},
   "source": [
    "---"
   ]
  }
 ],
 "metadata": {
  "kernelspec": {
   "display_name": "Python 3",
   "language": "python",
   "name": "python3"
  },
  "language_info": {
   "codemirror_mode": {
    "name": "ipython",
    "version": 3
   },
   "file_extension": ".py",
   "mimetype": "text/x-python",
   "name": "python",
   "nbconvert_exporter": "python",
   "pygments_lexer": "ipython3",
   "version": "3.8.5"
  }
 },
 "nbformat": 4,
 "nbformat_minor": 4
}
