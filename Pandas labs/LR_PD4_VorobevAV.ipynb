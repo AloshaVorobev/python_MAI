{
 "cells": [
  {
   "cell_type": "markdown",
   "metadata": {},
   "source": [
    "---\n",
    "                                            Московский Авиационный Институт  \n",
    "                                      (Национальный Исследовательский Университет)  \n",
    "        \n",
    "                \n",
    "                \n",
    "    Кафедра 806 «Вычислительная математика и программирование»  \n",
    "    Институт: «Информационные технологии и прикладная математика»  \n",
    "    Дисциплина: «Разработка ПО для высокопроизводительных систем»        \n",
    "                \n",
    "\n",
    "\n",
    "                                            --------------------------------\n",
    "                                            Лабораторная работа по Pandas №4  \n",
    "                                            --------------------------------    \n",
    "                                            \n",
    "                                            \n",
    "                                            \n",
    "                                                                                Группа: М8О-103М-20  \n",
    "                                                                                Студент: Воробьев Алексей Вячеславович  \n",
    "                                                                                Преподаватель: Поповкин Александр Викторович  \n",
    "                                                                                \n",
    "                                                                                \n",
    "                                                                                \n",
    "                                                     Москва, 2020  \n",
    "                                                         \n",
    "---"
   ]
  },
  {
   "cell_type": "markdown",
   "metadata": {},
   "source": [
    "#### 1. Импортировать модули sys numpy pandas:"
   ]
  },
  {
   "cell_type": "code",
   "execution_count": 2,
   "metadata": {},
   "outputs": [],
   "source": [
    "import sys\n",
    "import numpy as np\n",
    "import pandas as pd"
   ]
  },
  {
   "cell_type": "markdown",
   "metadata": {},
   "source": [
    "---\n",
    "#### 2. Создать объект pandas Series из листа, объекта NumPy, и словаря:"
   ]
  },
  {
   "cell_type": "code",
   "execution_count": 3,
   "metadata": {
    "collapsed": true
   },
   "outputs": [
    {
     "name": "stdout",
     "output_type": "stream",
     "text": [
      "Made of  list:\n",
      "0    a\n",
      "1    b\n",
      "2    c\n",
      "3    d\n",
      "4    e\n",
      "dtype: object\n",
      "----------\n",
      "Made of  NumPy object:\n",
      "0    0\n",
      "1    1\n",
      "2    2\n",
      "3    3\n",
      "4    4\n",
      "dtype: int32\n",
      "----------\n",
      "Made of  dictionary:\n",
      "a    0\n",
      "b    1\n",
      "c    2\n",
      "d    3\n",
      "e    4\n",
      "dtype: int64\n",
      "----------\n"
     ]
    }
   ],
   "source": [
    "src_list = list('abcde')\n",
    "src_arr = np.arange(5)\n",
    "src_dict = dict(zip(src_list, src_arr))\n",
    "\n",
    "s1 = pd.Series(src_list)\n",
    "s2 = pd.Series(src_arr)\n",
    "s3 = pd.Series(src_dict)\n",
    " \n",
    "print(f'Made of  list:\\n{s1}\\n----------')\n",
    "print(f'Made of  NumPy object:\\n{s2}\\n----------')\n",
    "print(f'Made of  dictionary:\\n{s3}\\n----------')"
   ]
  },
  {
   "cell_type": "markdown",
   "metadata": {},
   "source": [
    "---\n",
    "#### 3. Преобразовать объект Series в DataFrame:"
   ]
  },
  {
   "cell_type": "code",
   "execution_count": 4,
   "metadata": {
    "collapsed": true
   },
   "outputs": [
    {
     "name": "stdout",
     "output_type": "stream",
     "text": [
      "Series object:\n",
      "a      one\n",
      "b      two\n",
      "c    three\n",
      "dtype: object\n",
      "----------\n",
      "Start type:\t<class 'pandas.core.series.Series'>\n",
      "----------\n",
      "DataFrame object:\n",
      "       0\n",
      "a    one\n",
      "b    two\n",
      "c  three\n",
      "----------\n",
      "End type:\t<class 'pandas.core.frame.DataFrame'>\n",
      "----------\n"
     ]
    }
   ],
   "source": [
    "s = pd.Series({'a': 'one', 'b': 'two', 'c': 'three'})\n",
    "print(f'Series object:\\n{s}\\n----------')\n",
    "print(f'Start type:\\t{type(s)}\\n----------')\n",
    "\n",
    "s = s.to_frame()\n",
    "print(f'DataFrame object:\\n{s}\\n----------')\n",
    "print(f'End type:\\t{type(s)}\\n----------')"
   ]
  },
  {
   "cell_type": "markdown",
   "metadata": {},
   "source": [
    "---\n",
    "#### 4. Создать объект Series, преобразовать в DataFrame и объединить несколько объектов Series в Dataframe:"
   ]
  },
  {
   "cell_type": "code",
   "execution_count": 7,
   "metadata": {
    "collapsed": true
   },
   "outputs": [
    {
     "name": "stdout",
     "output_type": "stream",
     "text": [
      "Вариант 1:\n",
      "   0  1\n",
      "0  a  0\n",
      "1  b  1\n",
      "2  c  2\n",
      "3  d  3\n",
      "4  e  4\n",
      "5  f  5\n",
      "6  g  6\n",
      "7  h  7\n",
      "8  i  8\n",
      "9  j  9\n",
      "----------\n",
      "Вариант 2:\n",
      "  column 1  column 2\n",
      "0        a         0\n",
      "1        b         1\n",
      "2        c         2\n",
      "3        d         3\n",
      "4        e         4\n",
      "5        f         5\n",
      "6        g         6\n",
      "7        h         7\n",
      "8        i         8\n",
      "9        j         9\n"
     ]
    }
   ],
   "source": [
    "s1 = pd.Series(list('abcdefghij'))\n",
    "s2 = pd.Series(np.arange(10))\n",
    "\n",
    "# Вариант 1\n",
    "df1 = pd.concat([s1, s2], axis=1)\n",
    "print(f'Вариант 1:\\n{df1}\\n----------')\n",
    "\n",
    "# Вариант 2\n",
    "df2 = pd.DataFrame({'column 1': s1, 'column 2': s2})\n",
    "print(f'Вариант 2:\\n{df2}')"
   ]
  },
  {
   "cell_type": "markdown",
   "metadata": {},
   "source": [
    "---\n",
    "#### 5. Присвоить имя индексу объекта Series:"
   ]
  },
  {
   "cell_type": "code",
   "execution_count": 37,
   "metadata": {
    "collapsed": true
   },
   "outputs": [
    {
     "name": "stdout",
     "output_type": "stream",
     "text": [
      "Series object:\n",
      "a    1\n",
      "b    2\n",
      "c    3\n",
      "Name: my_name, dtype: int64\n"
     ]
    }
   ],
   "source": [
    "s = pd.Series({'a': 1, 'b': 2, 'c': 3})\n",
    " \n",
    "s.name = 'my_name'\n",
    " \n",
    "print(f'Series object:\\n{s}')"
   ]
  },
  {
   "cell_type": "markdown",
   "metadata": {},
   "source": [
    "---\n",
    "#### 6. Присвоить имя индексу объекта Series. Получить элементы объекта Series A, которых нет в объекте Series B."
   ]
  },
  {
   "cell_type": "code",
   "execution_count": 9,
   "metadata": {
    "collapsed": true
   },
   "outputs": [
    {
     "name": "stdout",
     "output_type": "stream",
     "text": [
      "Series A:\n",
      "0    1\n",
      "1    2\n",
      "2    3\n",
      "3    4\n",
      "4    5\n",
      "dtype: int64\n",
      "----------\n",
      "Series B:\n",
      "0    4\n",
      "1    5\n",
      "2    6\n",
      "3    7\n",
      "4    8\n",
      "dtype: int64\n",
      "----------\n"
     ]
    }
   ],
   "source": [
    "s1 = pd.Series([1, 2, 3, 4, 5])\n",
    "print(f'Series A:\\n{s1}\\n----------')\n",
    "\n",
    "s2 = pd.Series([4, 5, 6, 7, 8])\n",
    "print(f'Series B:\\n{s2}\\n----------')"
   ]
  },
  {
   "cell_type": "markdown",
   "metadata": {},
   "source": [
    "---\n",
    "    6.1. Возвратить вместе с индексами:"
   ]
  },
  {
   "cell_type": "code",
   "execution_count": 10,
   "metadata": {
    "collapsed": true
   },
   "outputs": [
    {
     "name": "stdout",
     "output_type": "stream",
     "text": [
      "Series elements A which are not in B (with indices):\n",
      "0    1\n",
      "1    2\n",
      "2    3\n",
      "dtype: int64\n",
      "----------\n"
     ]
    }
   ],
   "source": [
    "ans = s1[~s1.isin(s2)]\n",
    "print(f'Series elements A which are not in B (with indices):\\n{ans}\\n----------')"
   ]
  },
  {
   "cell_type": "markdown",
   "metadata": {},
   "source": [
    "---\n",
    "    6.2 Возвратить значения:"
   ]
  },
  {
   "cell_type": "code",
   "execution_count": 12,
   "metadata": {
    "collapsed": true
   },
   "outputs": [
    {
     "name": "stdout",
     "output_type": "stream",
     "text": [
      "Series elements A which are not in B (only values):\n",
      "[1 2 3]\n"
     ]
    }
   ],
   "source": [
    "ans2 = np.setdiff1d(s1, s2, assume_unique=False)\n",
    "print(f'Series elements A which are not in B (only values):\\n{ans2}')"
   ]
  },
  {
   "cell_type": "markdown",
   "metadata": {},
   "source": [
    "---\n",
    "#### 7. Получить не пересекающиеся элементы в двух объектах Series:"
   ]
  },
  {
   "cell_type": "code",
   "execution_count": 39,
   "metadata": {
    "collapsed": true
   },
   "outputs": [
    {
     "name": "stdout",
     "output_type": "stream",
     "text": [
      "Series A:\n",
      "0     8\n",
      "1     8\n",
      "2     4\n",
      "3    10\n",
      "4     7\n",
      "dtype: int32\n",
      "----------\n",
      "Series B:\n",
      "0    10\n",
      "1    11\n",
      "2    19\n",
      "3    19\n",
      "4     6\n",
      "dtype: int32\n",
      "----------\n"
     ]
    }
   ],
   "source": [
    "s1 = pd.Series(np.random.randint(0, 15, 5))\n",
    "print(f'Series A:\\n{s1}\\n----------')\n",
    "\n",
    "s2 = pd.Series(np.random.randint(5, 20, 5))\n",
    "print(f'Series B:\\n{s2}\\n----------')"
   ]
  },
  {
   "cell_type": "markdown",
   "metadata": {},
   "source": [
    "---\n",
    "    7.1. Получить объединенный Series без повтороений:"
   ]
  },
  {
   "cell_type": "code",
   "execution_count": 40,
   "metadata": {
    "collapsed": true
   },
   "outputs": [
    {
     "name": "stdout",
     "output_type": "stream",
     "text": [
      "0     4\n",
      "1     6\n",
      "2     7\n",
      "3     8\n",
      "4    10\n",
      "5    11\n",
      "6    19\n",
      "dtype: int32\n"
     ]
    }
   ],
   "source": [
    "s_union = pd.Series(np.union1d(s1, s2))\n",
    "print(s_union)"
   ]
  },
  {
   "cell_type": "markdown",
   "metadata": {},
   "source": [
    "---\n",
    "    7.2. Получить пересекающиеся данные:"
   ]
  },
  {
   "cell_type": "code",
   "execution_count": 41,
   "metadata": {
    "collapsed": true
   },
   "outputs": [
    {
     "name": "stdout",
     "output_type": "stream",
     "text": [
      "0    10\n",
      "dtype: int32\n"
     ]
    }
   ],
   "source": [
    "s_intersect = pd.Series(np.intersect1d(s1, s2))\n",
    "print(s_intersect)"
   ]
  },
  {
   "cell_type": "markdown",
   "metadata": {},
   "source": [
    "---\n",
    "    7.3. Отобрать все данные, кроме пересекающихся:"
   ]
  },
  {
   "cell_type": "code",
   "execution_count": 42,
   "metadata": {
    "collapsed": true
   },
   "outputs": [
    {
     "name": "stdout",
     "output_type": "stream",
     "text": [
      "0     4\n",
      "1     6\n",
      "2     7\n",
      "3     8\n",
      "5    11\n",
      "6    19\n",
      "dtype: int32\n"
     ]
    }
   ],
   "source": [
    "ans = s_union[~s_union.isin(s_intersect)]\n",
    "print(ans)"
   ]
  },
  {
   "cell_type": "markdown",
   "metadata": {},
   "source": [
    "---\n",
    "    7.4. Возвратить значения:"
   ]
  },
  {
   "cell_type": "code",
   "execution_count": 43,
   "metadata": {},
   "outputs": [
    {
     "name": "stdout",
     "output_type": "stream",
     "text": [
      "[ 4  6  7  8 11 19]\n"
     ]
    }
   ],
   "source": [
    "ans2 = np.setxor1d(s1, s2, assume_unique=False)\n",
    "print(ans2)"
   ]
  },
  {
   "cell_type": "markdown",
   "metadata": {},
   "source": [
    "---\n",
    "### The first is done.\n",
    "### But this is just the beginning..."
   ]
  },
  {
   "cell_type": "markdown",
   "metadata": {},
   "source": [
    "---"
   ]
  }
 ],
 "metadata": {
  "kernelspec": {
   "display_name": "Python 3",
   "language": "python",
   "name": "python3"
  },
  "language_info": {
   "codemirror_mode": {
    "name": "ipython",
    "version": 3
   },
   "file_extension": ".py",
   "mimetype": "text/x-python",
   "name": "python",
   "nbconvert_exporter": "python",
   "pygments_lexer": "ipython3",
   "version": "3.8.5"
  }
 },
 "nbformat": 4,
 "nbformat_minor": 4
}
