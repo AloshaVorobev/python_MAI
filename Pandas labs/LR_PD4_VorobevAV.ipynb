{
 "cells": [
  {
   "cell_type": "markdown",
   "metadata": {},
   "source": [
    "## Лабораторная работа по Pandas №4"
   ]
  },
  {
   "cell_type": "markdown",
   "metadata": {},
   "source": [
    "---\n",
    "Выполнил: студент группы М8О-103М-20 Воробьев А.В."
   ]
  },
  {
   "cell_type": "markdown",
   "metadata": {},
   "source": [
    "---\n",
    "#### 1. Импортировать модули sys numpy pandas:"
   ]
  },
  {
   "cell_type": "code",
   "execution_count": 67,
   "metadata": {},
   "outputs": [],
   "source": [
    "import sys\n",
    "import numpy as np\n",
    "import pandas as pd"
   ]
  },
  {
   "cell_type": "markdown",
   "metadata": {},
   "source": [
    "---\n",
    "#### 2. Создать объект pandas Series из листа, объекта NumPy, и словаря:"
   ]
  },
  {
   "cell_type": "code",
   "execution_count": 68,
   "metadata": {},
   "outputs": [
    {
     "name": "stdout",
     "output_type": "stream",
     "text": [
      "Made of  list:\n",
      "0    a\n",
      "1    b\n",
      "2    c\n",
      "3    d\n",
      "4    e\n",
      "dtype: object\n",
      "----------\n",
      "Made of  NumPy object:\n",
      "0    0\n",
      "1    1\n",
      "2    2\n",
      "3    3\n",
      "4    4\n",
      "dtype: int32\n",
      "----------\n",
      "Made of  dictionary:\n",
      "a    0\n",
      "b    1\n",
      "c    2\n",
      "d    3\n",
      "e    4\n",
      "dtype: int64\n",
      "----------\n"
     ]
    }
   ],
   "source": [
    "src_list = list('abcde')\n",
    "src_arr = np.arange(5)\n",
    "src_dict = dict(zip(src_list, src_arr))\n",
    " \n",
    "s1 = pd.Series(src_list)\n",
    "s2 = pd.Series(src_arr)\n",
    "s3 = pd.Series(src_dict)\n",
    " \n",
    "print(f'Made of  list:\\n{s1}\\n----------')\n",
    "print(f'Made of  NumPy object:\\n{s2}\\n----------')\n",
    "print(f'Made of  dictionary:\\n{s3}\\n----------')"
   ]
  },
  {
   "cell_type": "markdown",
   "metadata": {},
   "source": [
    "---\n",
    "#### 3. Преобразовать объект Series в DataFrame:"
   ]
  },
  {
   "cell_type": "code",
   "execution_count": 69,
   "metadata": {},
   "outputs": [
    {
     "name": "stdout",
     "output_type": "stream",
     "text": [
      "Series object:\n",
      "a      one\n",
      "b      two\n",
      "c    three\n",
      "dtype: object\n",
      "----------\n",
      "Start type:\t<class 'pandas.core.series.Series'>\n",
      "----------\n",
      "DataFrame object:\n",
      "       0\n",
      "a    one\n",
      "b    two\n",
      "c  three\n",
      "----------\n",
      "End type:\t<class 'pandas.core.frame.DataFrame'>\n",
      "----------\n"
     ]
    }
   ],
   "source": [
    "s = pd.Series({'a': 'one', 'b': 'two', 'c': 'three'})\n",
    "print(f'Series object:\\n{s}\\n----------')\n",
    "print(f'Start type:\\t{type(s)}\\n----------')\n",
    "\n",
    "s = s.to_frame()\n",
    "print(f'DataFrame object:\\n{s}\\n----------')\n",
    "print(f'End type:\\t{type(s)}\\n----------')"
   ]
  },
  {
   "cell_type": "markdown",
   "metadata": {},
   "source": [
    "---\n",
    "#### 4. Создать объект Series, преобразовать в DataFrame и объединить несколько объектов Series в Dataframe:"
   ]
  },
  {
   "cell_type": "code",
   "execution_count": 70,
   "metadata": {},
   "outputs": [
    {
     "name": "stdout",
     "output_type": "stream",
     "text": [
      "Вариант 1:\n",
      "   0  1\n",
      "0  a  0\n",
      "1  b  1\n",
      "2  c  2\n",
      "3  d  3\n",
      "4  e  4\n",
      "5  f  5\n",
      "6  g  6\n",
      "7  h  7\n",
      "8  i  8\n",
      "9  j  9\n",
      "----------\n",
      "Вариант 2:\n",
      "  column 1  column 2\n",
      "0        a         0\n",
      "1        b         1\n",
      "2        c         2\n",
      "3        d         3\n",
      "4        e         4\n",
      "5        f         5\n",
      "6        g         6\n",
      "7        h         7\n",
      "8        i         8\n",
      "9        j         9\n"
     ]
    }
   ],
   "source": [
    "s1 = pd.Series(list('abcdefghij'))\n",
    "s2 = pd.Series(np.arange(10))\n",
    "\n",
    "# Вариант 1\n",
    "df1 = pd.concat([s1, s2], axis=1)\n",
    "print(f'Вариант 1:\\n{df1}\\n----------')\n",
    "\n",
    "# Вариант 2\n",
    "df2 = pd.DataFrame({'column 1': s1, 'column 2': s2})\n",
    "print(f'Вариант 2:\\n{df2}')"
   ]
  },
  {
   "cell_type": "markdown",
   "metadata": {},
   "source": [
    "---\n",
    "#### 5. Присвоить имя индексу объекта Series:"
   ]
  },
  {
   "cell_type": "code",
   "execution_count": 71,
   "metadata": {},
   "outputs": [
    {
     "name": "stdout",
     "output_type": "stream",
     "text": [
      "Series object:\n",
      "a    1\n",
      "b    2\n",
      "c    3\n",
      "Name: my_name, dtype: int64\n"
     ]
    }
   ],
   "source": [
    "s = pd.Series({'a': 1, 'b': 2, 'c': 3})\n",
    " \n",
    "s.name = 'my_name'\n",
    " \n",
    "print(f'Series object:\\n{s}')"
   ]
  },
  {
   "cell_type": "markdown",
   "metadata": {},
   "source": [
    "---\n",
    "#### 6. Присвоить имя индексу объекта Series. Получить элементы объекта Series A, которых нет в объекте Series B."
   ]
  },
  {
   "cell_type": "code",
   "execution_count": 72,
   "metadata": {},
   "outputs": [
    {
     "name": "stdout",
     "output_type": "stream",
     "text": [
      "Series A:\n",
      "0    1\n",
      "1    2\n",
      "2    3\n",
      "3    4\n",
      "4    5\n",
      "dtype: int64\n",
      "----------\n",
      "Series B:\n",
      "0    4\n",
      "1    5\n",
      "2    6\n",
      "3    7\n",
      "4    8\n",
      "dtype: int64\n",
      "----------\n"
     ]
    }
   ],
   "source": [
    "s1 = pd.Series([1, 2, 3, 4, 5])\n",
    "print(f'Series A:\\n{s1}\\n----------')\n",
    "\n",
    "s2 = pd.Series([4, 5, 6, 7, 8])\n",
    "print(f'Series B:\\n{s2}\\n----------')"
   ]
  },
  {
   "cell_type": "markdown",
   "metadata": {},
   "source": [
    "Возвратить вместе с индексами:"
   ]
  },
  {
   "cell_type": "code",
   "execution_count": 73,
   "metadata": {},
   "outputs": [
    {
     "name": "stdout",
     "output_type": "stream",
     "text": [
      "Series elements A which are not in B (with indices):\n",
      "0    1\n",
      "1    2\n",
      "2    3\n",
      "dtype: int64\n",
      "----------\n"
     ]
    }
   ],
   "source": [
    "ans = s1[~s1.isin(s2)]\n",
    "print(f'Series elements A which are not in B (with indices):\\n{ans}\\n----------')"
   ]
  },
  {
   "cell_type": "markdown",
   "metadata": {},
   "source": [
    "Возвратить значения:"
   ]
  },
  {
   "cell_type": "code",
   "execution_count": 74,
   "metadata": {},
   "outputs": [
    {
     "name": "stdout",
     "output_type": "stream",
     "text": [
      "Series elements A which are not in B (only values):\n",
      "[1 2 3]\n",
      "----------\n"
     ]
    }
   ],
   "source": [
    "ans2 = np.setdiff1d(s1, s2, assume_unique=False)\n",
    "print(f'Series elements A which are not in B (only values):\\n{ans2}\\n----------')"
   ]
  },
  {
   "cell_type": "markdown",
   "metadata": {},
   "source": [
    "---\n",
    "#### 7. Получить не пересекающиеся элементы в двух объектах Series:"
   ]
  },
  {
   "cell_type": "code",
   "execution_count": 75,
   "metadata": {},
   "outputs": [
    {
     "name": "stdout",
     "output_type": "stream",
     "text": [
      "Series A:\n",
      "0    1\n",
      "1    2\n",
      "2    3\n",
      "3    4\n",
      "4    5\n",
      "dtype: int64\n",
      "----------\n",
      "Series A:\n",
      "0    4\n",
      "1    5\n",
      "2    6\n",
      "3    7\n",
      "4    8\n",
      "dtype: int64\n",
      "----------\n"
     ]
    }
   ],
   "source": [
    "s1 = pd.Series([1, 2, 3, 4, 5])\n",
    "print(f'Series A:\\n{s1}\\n----------')\n",
    "\n",
    "s2 = pd.Series([4, 5, 6, 7, 8])\n",
    "print(f'Series A:\\n{s2}\\n----------')"
   ]
  },
  {
   "cell_type": "markdown",
   "metadata": {},
   "source": [
    "Получить объединенный Series без повтороений:"
   ]
  },
  {
   "cell_type": "code",
   "execution_count": 76,
   "metadata": {},
   "outputs": [
    {
     "name": "stdout",
     "output_type": "stream",
     "text": [
      "0    1\n",
      "1    2\n",
      "2    3\n",
      "3    4\n",
      "4    5\n",
      "5    6\n",
      "6    7\n",
      "7    8\n",
      "dtype: int64\n"
     ]
    }
   ],
   "source": [
    "s_union = pd.Series(np.union1d(s1, s2))\n",
    "print(s_union)"
   ]
  },
  {
   "cell_type": "markdown",
   "metadata": {},
   "source": [
    "Получить пересекающиеся данные:"
   ]
  },
  {
   "cell_type": "code",
   "execution_count": 77,
   "metadata": {},
   "outputs": [
    {
     "name": "stdout",
     "output_type": "stream",
     "text": [
      "0    4\n",
      "1    5\n",
      "dtype: int64\n"
     ]
    }
   ],
   "source": [
    "s_intersect = pd.Series(np.intersect1d(s1, s2))\n",
    "print(s_intersect)"
   ]
  },
  {
   "cell_type": "markdown",
   "metadata": {},
   "source": [
    "Отобрать все данные, кроме пересекающихся:"
   ]
  },
  {
   "cell_type": "code",
   "execution_count": 78,
   "metadata": {},
   "outputs": [
    {
     "name": "stdout",
     "output_type": "stream",
     "text": [
      "0    1\n",
      "1    2\n",
      "2    3\n",
      "5    6\n",
      "6    7\n",
      "7    8\n",
      "dtype: int64\n"
     ]
    }
   ],
   "source": [
    "ans = s_union[~s_union.isin(s_intersect)]\n",
    "print(ans)"
   ]
  },
  {
   "cell_type": "markdown",
   "metadata": {},
   "source": [
    "Возвратить значения:"
   ]
  },
  {
   "cell_type": "code",
   "execution_count": 79,
   "metadata": {},
   "outputs": [
    {
     "name": "stdout",
     "output_type": "stream",
     "text": [
      "[1 2 3 6 7 8]\n"
     ]
    }
   ],
   "source": [
    "ans2 = np.setxor1d(s1, s2, assume_unique=False)\n",
    "print(ans2)"
   ]
  }
 ],
 "metadata": {
  "kernelspec": {
   "display_name": "Python 3",
   "language": "python",
   "name": "python3"
  },
  "language_info": {
   "codemirror_mode": {
    "name": "ipython",
    "version": 3
   },
   "file_extension": ".py",
   "mimetype": "text/x-python",
   "name": "python",
   "nbconvert_exporter": "python",
   "pygments_lexer": "ipython3",
   "version": "3.8.5"
  }
 },
 "nbformat": 4,
 "nbformat_minor": 4
}
