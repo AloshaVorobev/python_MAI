{
 "cells": [
  {
   "cell_type": "markdown",
   "metadata": {},
   "source": [
    "## Лабораторная работа по Pandas №6"
   ]
  },
  {
   "cell_type": "markdown",
   "metadata": {},
   "source": [
    "---\n",
    "Выполнил: студент группы М8О-103М-20 Воробьев А.В."
   ]
  },
  {
   "cell_type": "markdown",
   "metadata": {},
   "source": [
    "---\n",
    "#### 0. Подключаем необходимые библиотеки:"
   ]
  },
  {
   "cell_type": "code",
   "execution_count": 1,
   "metadata": {},
   "outputs": [],
   "source": [
    "import numpy as np\n",
    "import pandas as pd"
   ]
  },
  {
   "cell_type": "markdown",
   "metadata": {},
   "source": [
    "---\n",
    "#### 1. Найти евклидово расстоняие между двумя объектами Series:"
   ]
  },
  {
   "cell_type": "code",
   "execution_count": 2,
   "metadata": {},
   "outputs": [
    {
     "name": "stdout",
     "output_type": "stream",
     "text": [
      "6.782329983125268\n"
     ]
    }
   ],
   "source": [
    "n = 3\n",
    " \n",
    "s1 = pd.Series(np.random.randint(low=1, high=10, size=[n]))\n",
    "s2 = pd.Series(np.random.randint(low=1, high=10, size=[n]))\n",
    " \n",
    "ans = np.linalg.norm(s1-s2)\n",
    "ans2 = sum((s1-s2)**2)**0.5\n",
    "print(ans)"
   ]
  },
  {
   "cell_type": "markdown",
   "metadata": {},
   "source": [
    "---\n",
    "#### 2. Найти индексы локальных максимумов в объекте Series:"
   ]
  },
  {
   "cell_type": "code",
   "execution_count": 3,
   "metadata": {},
   "outputs": [
    {
     "name": "stdout",
     "output_type": "stream",
     "text": [
      "[3 6 9]\n"
     ]
    }
   ],
   "source": [
    "s = pd.Series([1, 5, 7, 11, 8, 4, 12, 5, 8, 16, 8])\n",
    "dd = np.diff(np.sign(np.diff(s)))\n",
    "ans = np.where(dd == -2)[0] + 1\n",
    "print(ans)"
   ]
  },
  {
   "cell_type": "markdown",
   "metadata": {},
   "source": [
    "---\n",
    "#### 3. Заменить пробелы наименее часто встречающимся символов:"
   ]
  },
  {
   "cell_type": "code",
   "execution_count": 4,
   "metadata": {},
   "outputs": [
    {
     "data": {
      "text/plain": [
       "'bnbdberdkekbddare'"
      ]
     },
     "execution_count": 4,
     "metadata": {},
     "output_type": "execute_result"
    }
   ],
   "source": [
    "str_test = 'bnb ber kekb dare'\n",
    " \n",
    "s = pd.Series(list(str_test))\n",
    "freq = s.value_counts()\n",
    "least_freq = freq.dropna().index[-1]\n",
    "''.join(s.replace(' ', least_freq))"
   ]
  },
  {
   "cell_type": "markdown",
   "metadata": {},
   "source": [
    "---\n",
    "#### 4. Создать объект Series, который содержит в индексах даты выходных дней субботы, а в значениях случайные числа от 1 до 10:"
   ]
  },
  {
   "cell_type": "code",
   "execution_count": 5,
   "metadata": {},
   "outputs": [
    {
     "name": "stdout",
     "output_type": "stream",
     "text": [
      "2018-01-06    3\n",
      "2018-01-13    4\n",
      "2018-01-20    4\n",
      "2018-01-27    7\n",
      "2018-02-03    3\n",
      "2018-02-10    7\n",
      "2018-02-17    2\n",
      "2018-02-24    9\n",
      "2018-03-03    7\n",
      "2018-03-10    9\n",
      "Freq: W-SAT, dtype: int32\n"
     ]
    }
   ],
   "source": [
    "s = pd.Series(np.random.randint(low=1,high=10,size=[10]), pd.date_range('2018-01-01', periods=10, freq='W-SAT'))\n",
    "print(s)"
   ]
  },
  {
   "cell_type": "markdown",
   "metadata": {},
   "source": [
    "---\n",
    "#### 5. Заполнить пропущенные даты, значением выше (заполненной даты):"
   ]
  },
  {
   "cell_type": "code",
   "execution_count": 6,
   "metadata": {},
   "outputs": [
    {
     "name": "stdout",
     "output_type": "stream",
     "text": [
      "2018-01-01    2.0\n",
      "2018-01-02    2.0\n",
      "2018-01-03    5.0\n",
      "2018-01-04    5.0\n",
      "2018-01-05    5.0\n",
      "2018-01-06    8.0\n",
      "2018-01-07    8.0\n",
      "2018-01-08    NaN\n",
      "Freq: D, dtype: float64\n"
     ]
    }
   ],
   "source": [
    "s = pd.Series([2, 5, 8, np.nan], index=pd.to_datetime(['2018-01-01', '2018-01-03', '2018-01-06', '2018-01-08']))\n",
    "# заполнить предыдущими значениями\n",
    "ans = s.resample('D').ffill()\n",
    "# заполнить последующими значениями\n",
    "ans2 = s.resample('D').bfill()\n",
    "print(ans)"
   ]
  },
  {
   "cell_type": "markdown",
   "metadata": {},
   "source": [
    "---\n",
    "#### 6. Вычислить автокорреляцию объекта Series:"
   ]
  },
  {
   "cell_type": "code",
   "execution_count": 7,
   "metadata": {},
   "outputs": [
    {
     "name": "stdout",
     "output_type": "stream",
     "text": [
      "[1.0, 0.85, 0.76, 0.81, 0.82, 0.93, 0.75, 0.62, 0.68, 0.67, 0.77, 0.49, -0.02, 0.42, 0.44, 0.86, 0.17, -0.91, -1.0, nan]\n"
     ]
    },
    {
     "name": "stderr",
     "output_type": "stream",
     "text": [
      "c:\\users\\alosha\\appdata\\local\\programs\\python\\python38\\lib\\site-packages\\numpy\\lib\\function_base.py:2551: RuntimeWarning: Degrees of freedom <= 0 for slice\n",
      "  c = cov(x, y, rowvar)\n",
      "c:\\users\\alosha\\appdata\\local\\programs\\python\\python38\\lib\\site-packages\\numpy\\lib\\function_base.py:2480: RuntimeWarning: divide by zero encountered in true_divide\n",
      "  c *= np.true_divide(1, fact)\n"
     ]
    }
   ],
   "source": [
    "n = 20\n",
    " \n",
    "s = pd.Series(np.arange(n))\n",
    "s = s + np.random.normal(1, 3, n)\n",
    " \n",
    "autocorr = [s.autocorr(lag=i).round(2) for i in range(n)]\n",
    " \n",
    "print(autocorr)"
   ]
  },
  {
   "cell_type": "markdown",
   "metadata": {},
   "source": [
    "---\n",
    "### My congratulations!\n",
    "### The last laboratory work remains..."
   ]
  },
  {
   "cell_type": "markdown",
   "metadata": {},
   "source": [
    "--- "
   ]
  }
 ],
 "metadata": {
  "kernelspec": {
   "display_name": "Python 3",
   "language": "python",
   "name": "python3"
  },
  "language_info": {
   "codemirror_mode": {
    "name": "ipython",
    "version": 3
   },
   "file_extension": ".py",
   "mimetype": "text/x-python",
   "name": "python",
   "nbconvert_exporter": "python",
   "pygments_lexer": "ipython3",
   "version": "3.8.5"
  }
 },
 "nbformat": 4,
 "nbformat_minor": 4
}
